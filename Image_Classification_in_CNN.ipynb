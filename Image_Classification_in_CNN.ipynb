{
  "nbformat": 4,
  "nbformat_minor": 0,
  "metadata": {
    "accelerator": "GPU",
    "colab": {
      "name": "Image Classification in CNN.ipynb",
      "provenance": [],
      "authorship_tag": "ABX9TyNNlmpMx8XM9z1+7e/Y0QBG",
      "include_colab_link": true
    },
    "kernelspec": {
      "display_name": "Python 3",
      "name": "python3"
    },
    "language_info": {
      "name": "python"
    }
  },
  "cells": [
    {
      "cell_type": "markdown",
      "metadata": {
        "id": "view-in-github",
        "colab_type": "text"
      },
      "source": [
        "<a href=\"https://colab.research.google.com/github/Dulon18/Machine_Learning_project/blob/main/Image_Classification_in_CNN.ipynb\" target=\"_parent\"><img src=\"https://colab.research.google.com/assets/colab-badge.svg\" alt=\"Open In Colab\"/></a>"
      ]
    },
    {
      "cell_type": "markdown",
      "metadata": {
        "id": "Dm5CuQEMRbRP"
      },
      "source": [
        "# **Import Libraries**"
      ]
    },
    {
      "cell_type": "code",
      "metadata": {
        "id": "SUQ6-hG7H2Wn"
      },
      "source": [
        "import tensorflow as tf\n",
        "from tensorflow.keras import datasets,layers,models\n",
        "import matplotlib.pyplot as plt\n",
        "import numpy as np"
      ],
      "execution_count": 2,
      "outputs": []
    },
    {
      "cell_type": "code",
      "metadata": {
        "colab": {
          "base_uri": "https://localhost:8080/"
        },
        "id": "v-0xmfqNITyX",
        "outputId": "55e8fb03-9666-4fd6-92c0-61e59d5f0f61"
      },
      "source": [
        "#loading dataset\n",
        "(x_train,y_train),(x_test,y_test) = datasets.cifar10.load_data()"
      ],
      "execution_count": 3,
      "outputs": [
        {
          "output_type": "stream",
          "name": "stdout",
          "text": [
            "Downloading data from https://www.cs.toronto.edu/~kriz/cifar-10-python.tar.gz\n",
            "170500096/170498071 [==============================] - 11s 0us/step\n",
            "170508288/170498071 [==============================] - 11s 0us/step\n"
          ]
        }
      ]
    },
    {
      "cell_type": "code",
      "metadata": {
        "colab": {
          "base_uri": "https://localhost:8080/"
        },
        "id": "LZ8dDgFII93n",
        "outputId": "21b1bc51-3583-4f4b-d792-fb90b44747aa"
      },
      "source": [
        "#find row and columns for x train data\n",
        "x_train.shape"
      ],
      "execution_count": 4,
      "outputs": [
        {
          "output_type": "execute_result",
          "data": {
            "text/plain": [
              "(50000, 32, 32, 3)"
            ]
          },
          "metadata": {},
          "execution_count": 4
        }
      ]
    },
    {
      "cell_type": "code",
      "metadata": {
        "colab": {
          "base_uri": "https://localhost:8080/"
        },
        "id": "WSVpRJWQJFGA",
        "outputId": "9f60517e-d9b7-4007-b486-44bc1c01efca"
      },
      "source": [
        "#find row and columns for x test data\n",
        "x_test.shape"
      ],
      "execution_count": 5,
      "outputs": [
        {
          "output_type": "execute_result",
          "data": {
            "text/plain": [
              "(10000, 32, 32, 3)"
            ]
          },
          "metadata": {},
          "execution_count": 5
        }
      ]
    },
    {
      "cell_type": "code",
      "metadata": {
        "colab": {
          "base_uri": "https://localhost:8080/"
        },
        "id": "CMeJRDd1LbSO",
        "outputId": "ecc1c022-8dca-48ee-ef01-f40c788d4912"
      },
      "source": [
        "y_train[:5]"
      ],
      "execution_count": 6,
      "outputs": [
        {
          "output_type": "execute_result",
          "data": {
            "text/plain": [
              "array([[6],\n",
              "       [9],\n",
              "       [9],\n",
              "       [4],\n",
              "       [1]], dtype=uint8)"
            ]
          },
          "metadata": {},
          "execution_count": 6
        }
      ]
    },
    {
      "cell_type": "code",
      "metadata": {
        "colab": {
          "base_uri": "https://localhost:8080/"
        },
        "id": "l3hBVlEDLHs_",
        "outputId": "5847231d-0d0d-4b4d-af62-97f0a4174f13"
      },
      "source": [
        "y_train.shape"
      ],
      "execution_count": 7,
      "outputs": [
        {
          "output_type": "execute_result",
          "data": {
            "text/plain": [
              "(50000, 1)"
            ]
          },
          "metadata": {},
          "execution_count": 7
        }
      ]
    },
    {
      "cell_type": "code",
      "metadata": {
        "colab": {
          "base_uri": "https://localhost:8080/"
        },
        "id": "qjaptRX2LLP-",
        "outputId": "1b411f70-b1fe-4d3d-ea3c-1547fc177c27"
      },
      "source": [
        "y_train = y_train.reshape(-1,)\n",
        "y_train[:5]"
      ],
      "execution_count": 8,
      "outputs": [
        {
          "output_type": "execute_result",
          "data": {
            "text/plain": [
              "array([6, 9, 9, 4, 1], dtype=uint8)"
            ]
          },
          "metadata": {},
          "execution_count": 8
        }
      ]
    },
    {
      "cell_type": "code",
      "metadata": {
        "id": "wwXzwBwSKI1p"
      },
      "source": [
        "classes =['airplane','atuomobile','bird','cat','deer','dog','frog','house','ship','truck']"
      ],
      "execution_count": 9,
      "outputs": []
    },
    {
      "cell_type": "code",
      "metadata": {
        "colab": {
          "base_uri": "https://localhost:8080/",
          "height": 36
        },
        "id": "6YQr1AM-KH0h",
        "outputId": "4c806db3-57ec-44e4-dd7d-9c85968b37ed"
      },
      "source": [
        "classes[4]"
      ],
      "execution_count": 10,
      "outputs": [
        {
          "output_type": "execute_result",
          "data": {
            "application/vnd.google.colaboratory.intrinsic+json": {
              "type": "string"
            },
            "text/plain": [
              "'deer'"
            ]
          },
          "metadata": {},
          "execution_count": 10
        }
      ]
    },
    {
      "cell_type": "code",
      "metadata": {
        "id": "gJZHhxQKJIYe"
      },
      "source": [
        "def plot_sample(X,y,index):\n",
        "    plt.figure(figsize=(15,2))\n",
        "    plt.imshow(X[index])\n",
        "    plt.xlabel(classes[y[index]])"
      ],
      "execution_count": 11,
      "outputs": []
    },
    {
      "cell_type": "code",
      "metadata": {
        "colab": {
          "base_uri": "https://localhost:8080/",
          "height": 173
        },
        "id": "U4XhiF3YMBmK",
        "outputId": "b1855d3a-15fa-4e9c-819d-2b18962c20e4"
      },
      "source": [
        "plot_sample(x_train,y_train, 1)"
      ],
      "execution_count": 12,
      "outputs": [
        {
          "output_type": "display_data",
          "data": {
            "image/png": "[encoded data removed]",
            "text/plain": [
              "<Figure size 1080x144 with 1 Axes>"
            ]
          },
          "metadata": {
            "needs_background": "light"
          }
        }
      ]
    },
    {
      "cell_type": "code",
      "metadata": {
        "colab": {
          "base_uri": "https://localhost:8080/",
          "height": 173
        },
        "id": "4i7cbFwdMKXn",
        "outputId": "b1057c59-e774-4c0b-d39c-639adfb02891"
      },
      "source": [
        "plot_sample(x_train,y_train,8)"
      ],
      "execution_count": 13,
      "outputs": [
        {
          "output_type": "display_data",
          "data": {
            "image/png": "[encoded data removed]",
            "text/plain": [
              "<Figure size 1080x144 with 1 Axes>"
            ]
          },
          "metadata": {
            "needs_background": "light"
          }
        }
      ]
    },
    {
      "cell_type": "markdown",
      "metadata": {
        "id": "nMGRbRVAMWY-"
      },
      "source": [
        "# Normalize image "
      ]
    },
    {
      "cell_type": "code",
      "metadata": {
        "id": "h4_5mYirJowY"
      },
      "source": [
        "x_train = x_train/255\n",
        "x_test = x_test/255"
      ],
      "execution_count": 14,
      "outputs": []
    },
    {
      "cell_type": "markdown",
      "metadata": {
        "id": "Iw32xms4NE9A"
      },
      "source": [
        "# **Model building and training**"
      ]
    },
    {
      "cell_type": "code",
      "metadata": {
        "colab": {
          "base_uri": "https://localhost:8080/"
        },
        "id": "K2y5Cj-rNKXV",
        "outputId": "261824e4-b96c-4749-d7ec-80643bcf3ea3"
      },
      "source": [
        "ann = models.Sequential([\n",
        "        layers.Flatten(input_shape=(32,32,3)),\n",
        "        layers.Dense(3000,activation='relu'),\n",
        "        layers.Dense(1000,activation='relu'),\n",
        "        layers.Dense(10,activation='sigmoid')\n",
        "    \n",
        "])\n",
        "\n",
        "ann.compile(optimizer = 'SGD',\n",
        "              loss='sparse_categorical_crossentropy',\n",
        "              metrics = ['accuracy'])\n",
        "\n",
        "ann.fit(x_train, y_train, epochs=30)\n"
      ],
      "execution_count": 15,
      "outputs": [
        {
          "output_type": "stream",
          "name": "stdout",
          "text": [
            "Epoch 1/30\n",
            "1563/1563 [==============================] - 11s 6ms/step - loss: 1.8133 - accuracy: 0.3538\n",
            "Epoch 2/30\n",
            "1563/1563 [==============================] - 9s 6ms/step - loss: 1.6253 - accuracy: 0.4261\n",
            "Epoch 3/30\n",
            "1563/1563 [==============================] - 9s 6ms/step - loss: 1.5441 - accuracy: 0.4555\n",
            "Epoch 4/30\n",
            "1563/1563 [==============================] - 9s 6ms/step - loss: 1.4807 - accuracy: 0.4786\n",
            "Epoch 5/30\n",
            "1563/1563 [==============================] - 9s 6ms/step - loss: 1.4313 - accuracy: 0.4976\n",
            "Epoch 6/30\n",
            "1563/1563 [==============================] - 9s 6ms/step - loss: 1.3898 - accuracy: 0.5134\n",
            "Epoch 7/30\n",
            "1563/1563 [==============================] - 9s 6ms/step - loss: 1.3504 - accuracy: 0.5254\n",
            "Epoch 8/30\n",
            "1563/1563 [==============================] - 9s 6ms/step - loss: 1.3155 - accuracy: 0.5392\n",
            "Epoch 9/30\n",
            "1563/1563 [==============================] - 9s 6ms/step - loss: 1.2802 - accuracy: 0.5543\n",
            "Epoch 10/30\n",
            "1563/1563 [==============================] - 9s 6ms/step - loss: 1.2506 - accuracy: 0.5605\n",
            "Epoch 11/30\n",
            "1563/1563 [==============================] - 9s 6ms/step - loss: 1.2197 - accuracy: 0.5739\n",
            "Epoch 12/30\n",
            "1563/1563 [==============================] - 9s 6ms/step - loss: 1.1927 - accuracy: 0.5838\n",
            "Epoch 13/30\n",
            "1563/1563 [==============================] - 9s 6ms/step - loss: 1.1653 - accuracy: 0.5932\n",
            "Epoch 14/30\n",
            "1563/1563 [==============================] - 9s 6ms/step - loss: 1.1355 - accuracy: 0.6022\n",
            "Epoch 15/30\n",
            "1563/1563 [==============================] - 9s 6ms/step - loss: 1.1103 - accuracy: 0.6138\n",
            "Epoch 16/30\n",
            "1563/1563 [==============================] - 9s 6ms/step - loss: 1.0834 - accuracy: 0.6217\n",
            "Epoch 17/30\n",
            "1563/1563 [==============================] - 9s 6ms/step - loss: 1.0587 - accuracy: 0.6318\n",
            "Epoch 18/30\n",
            "1563/1563 [==============================] - 9s 6ms/step - loss: 1.0332 - accuracy: 0.6431\n",
            "Epoch 19/30\n",
            "1563/1563 [==============================] - 9s 5ms/step - loss: 1.0064 - accuracy: 0.6517\n",
            "Epoch 20/30\n",
            "1563/1563 [==============================] - 9s 6ms/step - loss: 0.9800 - accuracy: 0.6596\n",
            "Epoch 21/30\n",
            "1563/1563 [==============================] - 9s 6ms/step - loss: 0.9546 - accuracy: 0.6699\n",
            "Epoch 22/30\n",
            "1563/1563 [==============================] - 9s 6ms/step - loss: 0.9294 - accuracy: 0.6777\n",
            "Epoch 23/30\n",
            "1563/1563 [==============================] - 9s 6ms/step - loss: 0.9058 - accuracy: 0.6879\n",
            "Epoch 24/30\n",
            "1563/1563 [==============================] - 9s 6ms/step - loss: 0.8785 - accuracy: 0.6973\n",
            "Epoch 25/30\n",
            "1563/1563 [==============================] - 9s 6ms/step - loss: 0.8544 - accuracy: 0.7045\n",
            "Epoch 26/30\n",
            "1563/1563 [==============================] - 9s 6ms/step - loss: 0.8294 - accuracy: 0.7154\n",
            "Epoch 27/30\n",
            "1563/1563 [==============================] - 9s 6ms/step - loss: 0.8040 - accuracy: 0.7249\n",
            "Epoch 28/30\n",
            "1563/1563 [==============================] - 9s 6ms/step - loss: 0.7800 - accuracy: 0.7331\n",
            "Epoch 29/30\n",
            "1563/1563 [==============================] - 9s 6ms/step - loss: 0.7529 - accuracy: 0.7441\n",
            "Epoch 30/30\n",
            "1563/1563 [==============================] - 9s 6ms/step - loss: 0.7307 - accuracy: 0.7507\n"
          ]
        },
        {
          "output_type": "execute_result",
          "data": {
            "text/plain": [
              "<keras.callbacks.History at 0x7ff90010b5d0>"
            ]
          },
          "metadata": {},
          "execution_count": 15
        }
      ]
    },
    {
      "cell_type": "code",
      "metadata": {
        "colab": {
          "base_uri": "https://localhost:8080/"
        },
        "id": "9Juhwj3NQG2P",
        "outputId": "f87118e5-7ee5-4cee-cdcf-7c5d928e8746"
      },
      "source": [
        "ann.evaluate(x_test , y_test)"
      ],
      "execution_count": 16,
      "outputs": [
        {
          "output_type": "stream",
          "name": "stdout",
          "text": [
            "313/313 [==============================] - 1s 4ms/step - loss: 1.6503 - accuracy: 0.4764\n"
          ]
        },
        {
          "output_type": "execute_result",
          "data": {
            "text/plain": [
              "[1.6502982378005981, 0.4763999879360199]"
            ]
          },
          "metadata": {},
          "execution_count": 16
        }
      ]
    },
    {
      "cell_type": "code",
      "metadata": {
        "colab": {
          "base_uri": "https://localhost:8080/"
        },
        "id": "LBNIRzexQZ5U",
        "outputId": "a7469e0a-78e3-4deb-df47-e2353b40242a"
      },
      "source": [
        "from sklearn.metrics import confusion_matrix, classification_report\n",
        "import numpy as np\n",
        "y_pred = ann.predict(x_test)\n",
        "y_pred_classes = [np.argmax(element) for element in y_pred]\n",
        "\n",
        "print('Classification Report for ann model : \\n',classification_report(y_test, y_pred_classes))"
      ],
      "execution_count": 17,
      "outputs": [
        {
          "output_type": "stream",
          "name": "stdout",
          "text": [
            "Classification Report for ann model : \n",
            "               precision    recall  f1-score   support\n",
            "\n",
            "           0       0.65      0.57      0.61      1000\n",
            "           1       0.52      0.81      0.64      1000\n",
            "           2       0.51      0.32      0.39      1000\n",
            "           3       0.49      0.11      0.17      1000\n",
            "           4       0.61      0.33      0.43      1000\n",
            "           5       0.23      0.88      0.37      1000\n",
            "           6       0.68      0.44      0.53      1000\n",
            "           7       0.69      0.48      0.57      1000\n",
            "           8       0.88      0.39      0.54      1000\n",
            "           9       0.66      0.45      0.54      1000\n",
            "\n",
            "    accuracy                           0.48     10000\n",
            "   macro avg       0.59      0.48      0.48     10000\n",
            "weighted avg       0.59      0.48      0.48     10000\n",
            "\n"
          ]
        }
      ]
    },
    {
      "cell_type": "code",
      "metadata": {
        "id": "d3jC0XNbRKL-"
      },
      "source": [
        "cnn = models.Sequential([\n",
        "        #cnn\n",
        "        layers.Conv2D(filters=32,kernel_size=(3,3),activation='relu', input_shape=(32,32,3)),\n",
        "        layers.MaxPool2D((2,2)),\n",
        "        layers.Conv2D(filters=32,kernel_size=(3,3),activation='relu', input_shape=(32,32,3)),\n",
        "        layers.MaxPool2D((2,2)),\n",
        "        #dense               \n",
        "        layers.Flatten(),\n",
        "        layers.Dense(64,activation='relu'),\n",
        "        layers.Dense(10,activation='softmax')\n",
        "    \n",
        "])"
      ],
      "execution_count": 18,
      "outputs": []
    },
    {
      "cell_type": "code",
      "metadata": {
        "id": "dOLSDq91R-Km"
      },
      "source": [
        "cnn.compile(optimizer = 'adam',\n",
        "              loss='sparse_categorical_crossentropy',\n",
        "              metrics = ['accuracy'])"
      ],
      "execution_count": 19,
      "outputs": []
    },
    {
      "cell_type": "code",
      "metadata": {
        "colab": {
          "base_uri": "https://localhost:8080/"
        },
        "id": "E6VJa5jeTvhO",
        "outputId": "3820a196-26d6-4a0b-a8c7-4935c7a5804c"
      },
      "source": [
        "cnn.fit(x_train, y_train, epochs=30)"
      ],
      "execution_count": 31,
      "outputs": [
        {
          "output_type": "stream",
          "name": "stdout",
          "text": [
            "Epoch 1/30\n",
            "1563/1563 [==============================] - 8s 5ms/step - loss: 0.8751 - accuracy: 0.6936\n",
            "Epoch 2/30\n",
            "1563/1563 [==============================] - 8s 5ms/step - loss: 0.8400 - accuracy: 0.7072\n",
            "Epoch 3/30\n",
            "1563/1563 [==============================] - 8s 5ms/step - loss: 0.8017 - accuracy: 0.7190\n",
            "Epoch 4/30\n",
            "1563/1563 [==============================] - 8s 5ms/step - loss: 0.7659 - accuracy: 0.7329\n",
            "Epoch 5/30\n",
            "1563/1563 [==============================] - 8s 5ms/step - loss: 0.7422 - accuracy: 0.7392\n",
            "Epoch 6/30\n",
            "1563/1563 [==============================] - 8s 5ms/step - loss: 0.7122 - accuracy: 0.7506\n",
            "Epoch 7/30\n",
            "1563/1563 [==============================] - 8s 5ms/step - loss: 0.6840 - accuracy: 0.7602\n",
            "Epoch 8/30\n",
            "1563/1563 [==============================] - 8s 5ms/step - loss: 0.6634 - accuracy: 0.7662\n",
            "Epoch 9/30\n",
            "1563/1563 [==============================] - 8s 5ms/step - loss: 0.6398 - accuracy: 0.7753\n",
            "Epoch 10/30\n",
            "1563/1563 [==============================] - 8s 5ms/step - loss: 0.6215 - accuracy: 0.7816\n",
            "Epoch 11/30\n",
            "1563/1563 [==============================] - 8s 5ms/step - loss: 0.6020 - accuracy: 0.7888\n",
            "Epoch 12/30\n",
            "1563/1563 [==============================] - 8s 5ms/step - loss: 0.5823 - accuracy: 0.7948\n",
            "Epoch 13/30\n",
            "1563/1563 [==============================] - 8s 5ms/step - loss: 0.5674 - accuracy: 0.7985\n",
            "Epoch 14/30\n",
            "1563/1563 [==============================] - 8s 5ms/step - loss: 0.5461 - accuracy: 0.8074\n",
            "Epoch 15/30\n",
            "1563/1563 [==============================] - 8s 5ms/step - loss: 0.5314 - accuracy: 0.8121\n",
            "Epoch 16/30\n",
            "1563/1563 [==============================] - 8s 5ms/step - loss: 0.5184 - accuracy: 0.8172\n",
            "Epoch 17/30\n",
            "1563/1563 [==============================] - 8s 5ms/step - loss: 0.5032 - accuracy: 0.8211\n",
            "Epoch 18/30\n",
            "1563/1563 [==============================] - 8s 5ms/step - loss: 0.4874 - accuracy: 0.8267\n",
            "Epoch 19/30\n",
            "1563/1563 [==============================] - 8s 5ms/step - loss: 0.4791 - accuracy: 0.8292\n",
            "Epoch 20/30\n",
            "1563/1563 [==============================] - 8s 5ms/step - loss: 0.4639 - accuracy: 0.8346\n",
            "Epoch 21/30\n",
            "1563/1563 [==============================] - 8s 5ms/step - loss: 0.4465 - accuracy: 0.8415\n",
            "Epoch 22/30\n",
            "1563/1563 [==============================] - 8s 5ms/step - loss: 0.4361 - accuracy: 0.8433\n",
            "Epoch 23/30\n",
            "1563/1563 [==============================] - 8s 5ms/step - loss: 0.4265 - accuracy: 0.8471\n",
            "Epoch 24/30\n",
            "1563/1563 [==============================] - 8s 5ms/step - loss: 0.4103 - accuracy: 0.8531\n",
            "Epoch 25/30\n",
            "1563/1563 [==============================] - 8s 5ms/step - loss: 0.3984 - accuracy: 0.8589\n",
            "Epoch 26/30\n",
            "1563/1563 [==============================] - 8s 5ms/step - loss: 0.3927 - accuracy: 0.8582\n",
            "Epoch 27/30\n",
            "1563/1563 [==============================] - 8s 5ms/step - loss: 0.3835 - accuracy: 0.8630\n",
            "Epoch 28/30\n",
            "1563/1563 [==============================] - 8s 5ms/step - loss: 0.3681 - accuracy: 0.8664\n",
            "Epoch 29/30\n",
            "1563/1563 [==============================] - 8s 5ms/step - loss: 0.3638 - accuracy: 0.8695\n",
            "Epoch 30/30\n",
            "1563/1563 [==============================] - 8s 5ms/step - loss: 0.3531 - accuracy: 0.8727\n"
          ]
        },
        {
          "output_type": "execute_result",
          "data": {
            "text/plain": [
              "<keras.callbacks.History at 0x7ff8bb880690>"
            ]
          },
          "metadata": {},
          "execution_count": 31
        }
      ]
    },
    {
      "cell_type": "code",
      "metadata": {
        "colab": {
          "base_uri": "https://localhost:8080/"
        },
        "id": "TRwpAjFRUFkD",
        "outputId": "d987a215-c6ec-4572-94fa-e8c8995f6cbc"
      },
      "source": [
        "cnn.evaluate(x_test,y_test)"
      ],
      "execution_count": 32,
      "outputs": [
        {
          "output_type": "stream",
          "name": "stdout",
          "text": [
            "313/313 [==============================] - 1s 4ms/step - loss: 1.4621 - accuracy: 0.6706\n"
          ]
        },
        {
          "output_type": "execute_result",
          "data": {
            "text/plain": [
              "[1.462126612663269, 0.6705999970436096]"
            ]
          },
          "metadata": {},
          "execution_count": 32
        }
      ]
    },
    {
      "cell_type": "code",
      "metadata": {
        "colab": {
          "base_uri": "https://localhost:8080/"
        },
        "id": "nlfexG7oUuIU",
        "outputId": "fc9a3aea-6491-45e1-f1d4-a39566b419d6"
      },
      "source": [
        "y_test[:5]"
      ],
      "execution_count": 33,
      "outputs": [
        {
          "output_type": "execute_result",
          "data": {
            "text/plain": [
              "array([3, 8, 8, 0, 6], dtype=uint8)"
            ]
          },
          "metadata": {},
          "execution_count": 33
        }
      ]
    },
    {
      "cell_type": "code",
      "metadata": {
        "id": "ttqCIMCzU9T1"
      },
      "source": [
        "y_test = y_test.reshape(-1,)"
      ],
      "execution_count": 34,
      "outputs": []
    },
    {
      "cell_type": "code",
      "metadata": {
        "colab": {
          "base_uri": "https://localhost:8080/"
        },
        "id": "c2augHryVI1r",
        "outputId": "8e148997-258a-4838-9102-8b51c08b0f14"
      },
      "source": [
        "y_test[:5]"
      ],
      "execution_count": 35,
      "outputs": [
        {
          "output_type": "execute_result",
          "data": {
            "text/plain": [
              "array([3, 8, 8, 0, 6], dtype=uint8)"
            ]
          },
          "metadata": {},
          "execution_count": 35
        }
      ]
    },
    {
      "cell_type": "code",
      "metadata": {
        "colab": {
          "base_uri": "https://localhost:8080/",
          "height": 173
        },
        "id": "1qrLey7eVK5z",
        "outputId": "4a8ca5ae-2288-4f74-815e-39a6020f304b"
      },
      "source": [
        "plot_sample(x_test,y_test,1)"
      ],
      "execution_count": 36,
      "outputs": [
        {
          "output_type": "display_data",
          "data": {
            "image/png": "[encoded data removed]",
            "text/plain": [
              "<Figure size 1080x144 with 1 Axes>"
            ]
          },
          "metadata": {
            "needs_background": "light"
          }
        }
      ]
    },
    {
      "cell_type": "code",
      "metadata": {
        "colab": {
          "base_uri": "https://localhost:8080/"
        },
        "id": "2dF-SG5yVgwN",
        "outputId": "f11d5839-52ac-432d-d06b-702203099de4"
      },
      "source": [
        "y_pred = cnn.predict(x_test)\n",
        "y_pred[:5]"
      ],
      "execution_count": 37,
      "outputs": [
        {
          "output_type": "execute_result",
          "data": {
            "text/plain": [
              "array([[1.18312337e-05, 6.02948163e-08, 2.83126225e-04, 9.99225855e-01,\n",
              "        5.80049857e-08, 1.05453757e-04, 5.07494879e-05, 4.02727665e-07,\n",
              "        3.22444859e-04, 1.33711673e-08],\n",
              "       [2.82551441e-03, 8.58288491e-04, 5.90949071e-07, 1.21295899e-12,\n",
              "        5.64275456e-16, 8.34283204e-14, 7.18081150e-11, 4.73865866e-17,\n",
              "        9.96287107e-01, 2.85177084e-05],\n",
              "       [4.08935547e-02, 1.25298813e-01, 1.33351667e-03, 2.09739097e-04,\n",
              "        3.06683942e-04, 1.02057653e-04, 2.28323438e-06, 7.50680920e-05,\n",
              "        8.31437051e-01, 3.41243314e-04],\n",
              "       [9.76359248e-01, 8.40147152e-07, 1.79784484e-02, 3.45552061e-03,\n",
              "        7.22691084e-06, 1.74681991e-05, 1.10215105e-05, 1.62173292e-05,\n",
              "        2.15353840e-03, 5.27259488e-07],\n",
              "       [3.20681686e-08, 4.20917559e-08, 1.31445518e-03, 4.89557758e-02,\n",
              "        1.04745649e-01, 1.32026826e-03, 8.43662858e-01, 7.36190060e-08,\n",
              "        8.03509181e-07, 1.79792725e-09]], dtype=float32)"
            ]
          },
          "metadata": {},
          "execution_count": 37
        }
      ]
    },
    {
      "cell_type": "code",
      "metadata": {
        "colab": {
          "base_uri": "https://localhost:8080/"
        },
        "id": "lRk0dBx7Vth1",
        "outputId": "61af7d40-3244-41a9-d088-f45377ba9c98"
      },
      "source": [
        "y_classes = [np.argmax(element) for element in y_pred]\n",
        "y_classes[:5]"
      ],
      "execution_count": 38,
      "outputs": [
        {
          "output_type": "execute_result",
          "data": {
            "text/plain": [
              "[3, 8, 8, 0, 6]"
            ]
          },
          "metadata": {},
          "execution_count": 38
        }
      ]
    },
    {
      "cell_type": "code",
      "metadata": {
        "colab": {
          "base_uri": "https://localhost:8080/"
        },
        "id": "7h5n4ExjWX3X",
        "outputId": "d95060f2-6591-475b-bbec-12438dac482f"
      },
      "source": [
        "y_test[:5]"
      ],
      "execution_count": 39,
      "outputs": [
        {
          "output_type": "execute_result",
          "data": {
            "text/plain": [
              "array([3, 8, 8, 0, 6], dtype=uint8)"
            ]
          },
          "metadata": {},
          "execution_count": 39
        }
      ]
    },
    {
      "cell_type": "code",
      "metadata": {
        "colab": {
          "base_uri": "https://localhost:8080/",
          "height": 173
        },
        "id": "-rEuK-tkWdVN",
        "outputId": "102f41ed-26e6-4599-9c99-a256b64a13d1"
      },
      "source": [
        "plot_sample(x_test,y_test,6)"
      ],
      "execution_count": 40,
      "outputs": [
        {
          "output_type": "display_data",
          "data": {
            "image/png": "[encoded data removed]",
            "text/plain": [
              "<Figure size 1080x144 with 1 Axes>"
            ]
          },
          "metadata": {
            "needs_background": "light"
          }
        }
      ]
    },
    {
      "cell_type": "code",
      "metadata": {
        "colab": {
          "base_uri": "https://localhost:8080/",
          "height": 36
        },
        "id": "jGAdde2yWkj8",
        "outputId": "9d19295d-5265-44a5-cdd9-1431c69f56ee"
      },
      "source": [
        "classes[y_classes[6]]"
      ],
      "execution_count": 41,
      "outputs": [
        {
          "output_type": "execute_result",
          "data": {
            "application/vnd.google.colaboratory.intrinsic+json": {
              "type": "string"
            },
            "text/plain": [
              "'atuomobile'"
            ]
          },
          "metadata": {},
          "execution_count": 41
        }
      ]
    }
  ]
}