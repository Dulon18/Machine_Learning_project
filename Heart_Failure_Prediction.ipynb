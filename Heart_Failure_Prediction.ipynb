{
  "nbformat": 4,
  "nbformat_minor": 0,
  "metadata": {
    "colab": {
      "name": "Heart Failure Prediction.ipynb",
      "provenance": [],
      "mount_file_id": "1fBWTJt1-54OeAG7QuKGR-FA9R5Z1KXbF",
      "authorship_tag": "ABX9TyNuiuymhcOd/iSpMgq8xywh",
      "include_colab_link": true
    },
    "kernelspec": {
      "name": "python3",
      "display_name": "Python 3"
    },
    "language_info": {
      "name": "python"
    },
    "accelerator": "GPU"
  },
  "cells": [
    {
      "cell_type": "markdown",
      "metadata": {
        "id": "view-in-github",
        "colab_type": "text"
      },
      "source": [
        "<a href=\"https://colab.research.google.com/github/Dulon18/Machine_Learning_project/blob/main/Heart_Failure_Prediction.ipynb\" target=\"_parent\"><img src=\"https://colab.research.google.com/assets/colab-badge.svg\" alt=\"Open In Colab\"/></a>"
      ]
    },
    {
      "cell_type": "code",
      "metadata": {
        "colab": {
          "base_uri": "https://localhost:8080/"
        },
        "id": "4ZOGMxZyj0tS",
        "outputId": "cff7bb43-2816-440b-dfe7-d93b8ca5bb09"
      },
      "source": [
        "from google.colab import drive\n",
        "drive.mount('/content/drive')"
      ],
      "execution_count": 109,
      "outputs": [
        {
          "output_type": "stream",
          "name": "stdout",
          "text": [
            "Drive already mounted at /content/drive; to attempt to forcibly remount, call drive.mount(\"/content/drive\", force_remount=True).\n"
          ]
        }
      ]
    },
    {
      "cell_type": "markdown",
      "metadata": {
        "id": "31eUgLiAQ_QN"
      },
      "source": [
        "# **Dataset Details**"
      ]
    },
    {
      "cell_type": "markdown",
      "metadata": {
        "id": "oxyMiH5smh4f"
      },
      "source": [
        "**Age:** age of the patient [years]\n",
        "\n",
        "**Sex:**sex of the patient [M: Male, F: Female]\n",
        "\n",
        "**ChestPainType**: chest pain type [TA: Typical \n",
        "Angina, ATA: Atypical Angina, NAP: Non-Anginal Pain, ASY: Asymptomatic]\n",
        "\n",
        "**RestingBP:** resting blood pressure [mm Hg]\n",
        "\n",
        "**Cholesterol:** serum cholesterol [mm/dl]\n",
        "\n",
        "**FastingBS:** fasting blood sugar [1: if FastingBS > 120 mg/dl, 0: otherwise]\n",
        "\n",
        "\n",
        "**RestingECG:** resting electrocardiogram results [Normal: Normal, ST: having ST-T wave abnormality (T wave inversions and/or ST elevation or depression of > 0.05 mV), LVH: showing probable or definite left ventricular hypertrophy by Estes' criteria]\n",
        "\n",
        "**MaxHR**: maximum heart rate achieved [Numeric value between 60 and 202]\n",
        "\n",
        "**ExerciseAngina**: exercise-induced angina [Y: Yes, N: No]\n",
        "\n",
        "**Oldpeak:** oldpeak = ST [Numeric value measured in depression]\n",
        "\n",
        "**ST_Slope:** the slope of the peak exercise ST segment [Up: upsloping, Flat: flat, Down: downsloping]\n",
        "\n",
        "**HeartDisease:** output class [1: heart disease, 0: Normal]"
      ]
    },
    {
      "cell_type": "markdown",
      "metadata": {
        "id": "6HMnx04Nj8g1"
      },
      "source": [
        "# **Importing Libraries**"
      ]
    },
    {
      "cell_type": "code",
      "metadata": {
        "id": "q3dPgCBAjVpX"
      },
      "source": [
        "from sklearn.model_selection import train_test_split\n",
        "from sklearn.preprocessing import StandardScaler\n",
        "from sklearn.metrics import accuracy_score\n",
        "from sklearn import svm\n",
        "import matplotlib.pyplot as plt\n",
        "from xgboost import XGBRegressor\n",
        "from sklearn import metrics\n",
        "\n",
        "import seaborn as sns\n",
        "import pandas as pd\n",
        "import numpy as np"
      ],
      "execution_count": 138,
      "outputs": []
    },
    {
      "cell_type": "code",
      "metadata": {
        "id": "rAofEiOxkj2_"
      },
      "source": [
        "dataset = pd.read_csv(\"/content/drive/MyDrive/Heart_Failure_Prediction/heart.csv\")"
      ],
      "execution_count": 111,
      "outputs": []
    },
    {
      "cell_type": "code",
      "metadata": {
        "colab": {
          "base_uri": "https://localhost:8080/",
          "height": 204
        },
        "id": "CmVrZfEAk3Vh",
        "outputId": "fbab3ae8-4efb-46eb-a3d8-70d3d7b22229"
      },
      "source": [
        "dataset.head()"
      ],
      "execution_count": 112,
      "outputs": [
        {
          "output_type": "execute_result",
          "data": {
            "text/html": [
              "<div>\n",
              "<style scoped>\n",
              "    .dataframe tbody tr th:only-of-type {\n",
              "        vertical-align: middle;\n",
              "    }\n",
              "\n",
              "    .dataframe tbody tr th {\n",
              "        vertical-align: top;\n",
              "    }\n",
              "\n",
              "    .dataframe thead th {\n",
              "        text-align: right;\n",
              "    }\n",
              "</style>\n",
              "<table border=\"1\" class=\"dataframe\">\n",
              "  <thead>\n",
              "    <tr style=\"text-align: right;\">\n",
              "      <th></th>\n",
              "      <th>Age</th>\n",
              "      <th>Sex</th>\n",
              "      <th>ChestPainType</th>\n",
              "      <th>RestingBP</th>\n",
              "      <th>Cholesterol</th>\n",
              "      <th>FastingBS</th>\n",
              "      <th>RestingECG</th>\n",
              "      <th>MaxHR</th>\n",
              "      <th>ExerciseAngina</th>\n",
              "      <th>Oldpeak</th>\n",
              "      <th>ST_Slope</th>\n",
              "      <th>HeartDisease</th>\n",
              "    </tr>\n",
              "  </thead>\n",
              "  <tbody>\n",
              "    <tr>\n",
              "      <th>0</th>\n",
              "      <td>40</td>\n",
              "      <td>M</td>\n",
              "      <td>ATA</td>\n",
              "      <td>140</td>\n",
              "      <td>289</td>\n",
              "      <td>0</td>\n",
              "      <td>Normal</td>\n",
              "      <td>172</td>\n",
              "      <td>N</td>\n",
              "      <td>0.0</td>\n",
              "      <td>Up</td>\n",
              "      <td>0</td>\n",
              "    </tr>\n",
              "    <tr>\n",
              "      <th>1</th>\n",
              "      <td>49</td>\n",
              "      <td>F</td>\n",
              "      <td>NAP</td>\n",
              "      <td>160</td>\n",
              "      <td>180</td>\n",
              "      <td>0</td>\n",
              "      <td>Normal</td>\n",
              "      <td>156</td>\n",
              "      <td>N</td>\n",
              "      <td>1.0</td>\n",
              "      <td>Flat</td>\n",
              "      <td>1</td>\n",
              "    </tr>\n",
              "    <tr>\n",
              "      <th>2</th>\n",
              "      <td>37</td>\n",
              "      <td>M</td>\n",
              "      <td>ATA</td>\n",
              "      <td>130</td>\n",
              "      <td>283</td>\n",
              "      <td>0</td>\n",
              "      <td>ST</td>\n",
              "      <td>98</td>\n",
              "      <td>N</td>\n",
              "      <td>0.0</td>\n",
              "      <td>Up</td>\n",
              "      <td>0</td>\n",
              "    </tr>\n",
              "    <tr>\n",
              "      <th>3</th>\n",
              "      <td>48</td>\n",
              "      <td>F</td>\n",
              "      <td>ASY</td>\n",
              "      <td>138</td>\n",
              "      <td>214</td>\n",
              "      <td>0</td>\n",
              "      <td>Normal</td>\n",
              "      <td>108</td>\n",
              "      <td>Y</td>\n",
              "      <td>1.5</td>\n",
              "      <td>Flat</td>\n",
              "      <td>1</td>\n",
              "    </tr>\n",
              "    <tr>\n",
              "      <th>4</th>\n",
              "      <td>54</td>\n",
              "      <td>M</td>\n",
              "      <td>NAP</td>\n",
              "      <td>150</td>\n",
              "      <td>195</td>\n",
              "      <td>0</td>\n",
              "      <td>Normal</td>\n",
              "      <td>122</td>\n",
              "      <td>N</td>\n",
              "      <td>0.0</td>\n",
              "      <td>Up</td>\n",
              "      <td>0</td>\n",
              "    </tr>\n",
              "  </tbody>\n",
              "</table>\n",
              "</div>"
            ],
            "text/plain": [
              "   Age Sex ChestPainType  ...  Oldpeak  ST_Slope  HeartDisease\n",
              "0   40   M           ATA  ...      0.0        Up             0\n",
              "1   49   F           NAP  ...      1.0      Flat             1\n",
              "2   37   M           ATA  ...      0.0        Up             0\n",
              "3   48   F           ASY  ...      1.5      Flat             1\n",
              "4   54   M           NAP  ...      0.0        Up             0\n",
              "\n",
              "[5 rows x 12 columns]"
            ]
          },
          "metadata": {},
          "execution_count": 112
        }
      ]
    },
    {
      "cell_type": "code",
      "metadata": {
        "colab": {
          "base_uri": "https://localhost:8080/"
        },
        "id": "HXWNbgqYmREV",
        "outputId": "b0281684-6096-40bb-fb94-ba5bf0a43c32"
      },
      "source": [
        "dataset.shape"
      ],
      "execution_count": 113,
      "outputs": [
        {
          "output_type": "execute_result",
          "data": {
            "text/plain": [
              "(918, 12)"
            ]
          },
          "metadata": {},
          "execution_count": 113
        }
      ]
    },
    {
      "cell_type": "code",
      "metadata": {
        "colab": {
          "base_uri": "https://localhost:8080/"
        },
        "id": "Yw24GoUBlQHo",
        "outputId": "49e8563c-022f-4889-b564-ce240715d72c"
      },
      "source": [
        "dataset[\"ChestPainType\"].value_counts()"
      ],
      "execution_count": 114,
      "outputs": [
        {
          "output_type": "execute_result",
          "data": {
            "text/plain": [
              "ASY    496\n",
              "NAP    203\n",
              "ATA    173\n",
              "TA      46\n",
              "Name: ChestPainType, dtype: int64"
            ]
          },
          "metadata": {},
          "execution_count": 114
        }
      ]
    },
    {
      "cell_type": "code",
      "metadata": {
        "colab": {
          "base_uri": "https://localhost:8080/"
        },
        "id": "Z1bqWgksmISF",
        "outputId": "7768a838-b014-40fa-eb06-71d1d7fc6805"
      },
      "source": [
        "dataset[\"FastingBS\"].value_counts()"
      ],
      "execution_count": 115,
      "outputs": [
        {
          "output_type": "execute_result",
          "data": {
            "text/plain": [
              "0    704\n",
              "1    214\n",
              "Name: FastingBS, dtype: int64"
            ]
          },
          "metadata": {},
          "execution_count": 115
        }
      ]
    },
    {
      "cell_type": "code",
      "metadata": {
        "colab": {
          "base_uri": "https://localhost:8080/"
        },
        "id": "yBCuE1EzwXkr",
        "outputId": "c7817946-4653-4c75-d006-3b365fb60134"
      },
      "source": [
        "dataset[\"ExerciseAngina\"].value_counts()"
      ],
      "execution_count": 116,
      "outputs": [
        {
          "output_type": "execute_result",
          "data": {
            "text/plain": [
              "N    547\n",
              "Y    371\n",
              "Name: ExerciseAngina, dtype: int64"
            ]
          },
          "metadata": {},
          "execution_count": 116
        }
      ]
    },
    {
      "cell_type": "code",
      "metadata": {
        "colab": {
          "base_uri": "https://localhost:8080/"
        },
        "id": "K5hdjDOqldqo",
        "outputId": "f7eafdc6-9636-4395-86cc-b3385a8ec489"
      },
      "source": [
        "dataset[\"RestingECG\"].value_counts()"
      ],
      "execution_count": 117,
      "outputs": [
        {
          "output_type": "execute_result",
          "data": {
            "text/plain": [
              "Normal    552\n",
              "LVH       188\n",
              "ST        178\n",
              "Name: RestingECG, dtype: int64"
            ]
          },
          "metadata": {},
          "execution_count": 117
        }
      ]
    },
    {
      "cell_type": "code",
      "metadata": {
        "colab": {
          "base_uri": "https://localhost:8080/"
        },
        "id": "nO9jwHr8l_3k",
        "outputId": "5c52baf1-4225-4e81-c8e0-bc3896198a7e"
      },
      "source": [
        "dataset[\"ST_Slope\"].value_counts()"
      ],
      "execution_count": 118,
      "outputs": [
        {
          "output_type": "execute_result",
          "data": {
            "text/plain": [
              "Flat    460\n",
              "Up      395\n",
              "Down     63\n",
              "Name: ST_Slope, dtype: int64"
            ]
          },
          "metadata": {},
          "execution_count": 118
        }
      ]
    },
    {
      "cell_type": "code",
      "metadata": {
        "colab": {
          "base_uri": "https://localhost:8080/"
        },
        "id": "H3_6iZd_lIQO",
        "outputId": "fde28a70-cd45-4848-8d79-f6b3c33d28cf"
      },
      "source": [
        "dataset.info()"
      ],
      "execution_count": 119,
      "outputs": [
        {
          "output_type": "stream",
          "name": "stdout",
          "text": [
            "<class 'pandas.core.frame.DataFrame'>\n",
            "RangeIndex: 918 entries, 0 to 917\n",
            "Data columns (total 12 columns):\n",
            " #   Column          Non-Null Count  Dtype  \n",
            "---  ------          --------------  -----  \n",
            " 0   Age             918 non-null    int64  \n",
            " 1   Sex             918 non-null    object \n",
            " 2   ChestPainType   918 non-null    object \n",
            " 3   RestingBP       918 non-null    int64  \n",
            " 4   Cholesterol     918 non-null    int64  \n",
            " 5   FastingBS       918 non-null    int64  \n",
            " 6   RestingECG      918 non-null    object \n",
            " 7   MaxHR           918 non-null    int64  \n",
            " 8   ExerciseAngina  918 non-null    object \n",
            " 9   Oldpeak         918 non-null    float64\n",
            " 10  ST_Slope        918 non-null    object \n",
            " 11  HeartDisease    918 non-null    int64  \n",
            "dtypes: float64(1), int64(6), object(5)\n",
            "memory usage: 86.2+ KB\n"
          ]
        }
      ]
    },
    {
      "cell_type": "code",
      "metadata": {
        "colab": {
          "base_uri": "https://localhost:8080/"
        },
        "id": "5whT74oslAwG",
        "outputId": "4cce4951-e6c5-487c-b9bc-039ae083d4dd"
      },
      "source": [
        "dataset.isnull().sum()"
      ],
      "execution_count": 120,
      "outputs": [
        {
          "output_type": "execute_result",
          "data": {
            "text/plain": [
              "Age               0\n",
              "Sex               0\n",
              "ChestPainType     0\n",
              "RestingBP         0\n",
              "Cholesterol       0\n",
              "FastingBS         0\n",
              "RestingECG        0\n",
              "MaxHR             0\n",
              "ExerciseAngina    0\n",
              "Oldpeak           0\n",
              "ST_Slope          0\n",
              "HeartDisease      0\n",
              "dtype: int64"
            ]
          },
          "metadata": {},
          "execution_count": 120
        }
      ]
    },
    {
      "cell_type": "code",
      "metadata": {
        "id": "F9Paln2hnOn3",
        "colab": {
          "base_uri": "https://localhost:8080/",
          "height": 297
        },
        "outputId": "817b1d0f-32f1-45c2-9eb7-d239aa74dee2"
      },
      "source": [
        "#statistical info..\n",
        "\n",
        "dataset.describe()"
      ],
      "execution_count": 121,
      "outputs": [
        {
          "output_type": "execute_result",
          "data": {
            "text/html": [
              "<div>\n",
              "<style scoped>\n",
              "    .dataframe tbody tr th:only-of-type {\n",
              "        vertical-align: middle;\n",
              "    }\n",
              "\n",
              "    .dataframe tbody tr th {\n",
              "        vertical-align: top;\n",
              "    }\n",
              "\n",
              "    .dataframe thead th {\n",
              "        text-align: right;\n",
              "    }\n",
              "</style>\n",
              "<table border=\"1\" class=\"dataframe\">\n",
              "  <thead>\n",
              "    <tr style=\"text-align: right;\">\n",
              "      <th></th>\n",
              "      <th>Age</th>\n",
              "      <th>RestingBP</th>\n",
              "      <th>Cholesterol</th>\n",
              "      <th>FastingBS</th>\n",
              "      <th>MaxHR</th>\n",
              "      <th>Oldpeak</th>\n",
              "      <th>HeartDisease</th>\n",
              "    </tr>\n",
              "  </thead>\n",
              "  <tbody>\n",
              "    <tr>\n",
              "      <th>count</th>\n",
              "      <td>918.000000</td>\n",
              "      <td>918.000000</td>\n",
              "      <td>918.000000</td>\n",
              "      <td>918.000000</td>\n",
              "      <td>918.000000</td>\n",
              "      <td>918.000000</td>\n",
              "      <td>918.000000</td>\n",
              "    </tr>\n",
              "    <tr>\n",
              "      <th>mean</th>\n",
              "      <td>53.510893</td>\n",
              "      <td>132.396514</td>\n",
              "      <td>198.799564</td>\n",
              "      <td>0.233115</td>\n",
              "      <td>136.809368</td>\n",
              "      <td>0.887364</td>\n",
              "      <td>0.553377</td>\n",
              "    </tr>\n",
              "    <tr>\n",
              "      <th>std</th>\n",
              "      <td>9.432617</td>\n",
              "      <td>18.514154</td>\n",
              "      <td>109.384145</td>\n",
              "      <td>0.423046</td>\n",
              "      <td>25.460334</td>\n",
              "      <td>1.066570</td>\n",
              "      <td>0.497414</td>\n",
              "    </tr>\n",
              "    <tr>\n",
              "      <th>min</th>\n",
              "      <td>28.000000</td>\n",
              "      <td>0.000000</td>\n",
              "      <td>0.000000</td>\n",
              "      <td>0.000000</td>\n",
              "      <td>60.000000</td>\n",
              "      <td>-2.600000</td>\n",
              "      <td>0.000000</td>\n",
              "    </tr>\n",
              "    <tr>\n",
              "      <th>25%</th>\n",
              "      <td>47.000000</td>\n",
              "      <td>120.000000</td>\n",
              "      <td>173.250000</td>\n",
              "      <td>0.000000</td>\n",
              "      <td>120.000000</td>\n",
              "      <td>0.000000</td>\n",
              "      <td>0.000000</td>\n",
              "    </tr>\n",
              "    <tr>\n",
              "      <th>50%</th>\n",
              "      <td>54.000000</td>\n",
              "      <td>130.000000</td>\n",
              "      <td>223.000000</td>\n",
              "      <td>0.000000</td>\n",
              "      <td>138.000000</td>\n",
              "      <td>0.600000</td>\n",
              "      <td>1.000000</td>\n",
              "    </tr>\n",
              "    <tr>\n",
              "      <th>75%</th>\n",
              "      <td>60.000000</td>\n",
              "      <td>140.000000</td>\n",
              "      <td>267.000000</td>\n",
              "      <td>0.000000</td>\n",
              "      <td>156.000000</td>\n",
              "      <td>1.500000</td>\n",
              "      <td>1.000000</td>\n",
              "    </tr>\n",
              "    <tr>\n",
              "      <th>max</th>\n",
              "      <td>77.000000</td>\n",
              "      <td>200.000000</td>\n",
              "      <td>603.000000</td>\n",
              "      <td>1.000000</td>\n",
              "      <td>202.000000</td>\n",
              "      <td>6.200000</td>\n",
              "      <td>1.000000</td>\n",
              "    </tr>\n",
              "  </tbody>\n",
              "</table>\n",
              "</div>"
            ],
            "text/plain": [
              "              Age   RestingBP  ...     Oldpeak  HeartDisease\n",
              "count  918.000000  918.000000  ...  918.000000    918.000000\n",
              "mean    53.510893  132.396514  ...    0.887364      0.553377\n",
              "std      9.432617   18.514154  ...    1.066570      0.497414\n",
              "min     28.000000    0.000000  ...   -2.600000      0.000000\n",
              "25%     47.000000  120.000000  ...    0.000000      0.000000\n",
              "50%     54.000000  130.000000  ...    0.600000      1.000000\n",
              "75%     60.000000  140.000000  ...    1.500000      1.000000\n",
              "max     77.000000  200.000000  ...    6.200000      1.000000\n",
              "\n",
              "[8 rows x 7 columns]"
            ]
          },
          "metadata": {},
          "execution_count": 121
        }
      ]
    },
    {
      "cell_type": "markdown",
      "metadata": {
        "id": "ZBvB3Xu5xLsy"
      },
      "source": [
        "# **Data Visualization**"
      ]
    },
    {
      "cell_type": "code",
      "metadata": {
        "colab": {
          "base_uri": "https://localhost:8080/",
          "height": 356
        },
        "id": "TgdibNBnw2TV",
        "outputId": "c566e8df-2c89-4cec-de69-8cf8e2f95dd0"
      },
      "source": [
        "sns.set()\n",
        "sns.countplot(dataset['Sex'])"
      ],
      "execution_count": 122,
      "outputs": [
        {
          "output_type": "stream",
          "name": "stderr",
          "text": [
            "/usr/local/lib/python3.7/dist-packages/seaborn/_decorators.py:43: FutureWarning: Pass the following variable as a keyword arg: x. From version 0.12, the only valid positional argument will be `data`, and passing other arguments without an explicit keyword will result in an error or misinterpretation.\n",
            "  FutureWarning\n"
          ]
        },
        {
          "output_type": "execute_result",
          "data": {
            "text/plain": [
              "<matplotlib.axes._subplots.AxesSubplot at 0x7fe9dc6e7350>"
            ]
          },
          "metadata": {},
          "execution_count": 122
        },
        {
          "output_type": "display_data",
          "data": {
            "image/png": "[encoded data removed]",
            "text/plain": [
              "<Figure size 432x288 with 1 Axes>"
            ]
          },
          "metadata": {}
        }
      ]
    },
    {
      "cell_type": "code",
      "metadata": {
        "colab": {
          "base_uri": "https://localhost:8080/",
          "height": 356
        },
        "id": "fVDMnycZxmEB",
        "outputId": "46de7c36-e6b7-45bb-ad26-c71982d6ee75"
      },
      "source": [
        "# finding distribution of Age column\n",
        "print(sns.distplot(dataset['Age']))"
      ],
      "execution_count": 123,
      "outputs": [
        {
          "output_type": "stream",
          "name": "stderr",
          "text": [
            "/usr/local/lib/python3.7/dist-packages/seaborn/distributions.py:2619: FutureWarning: `distplot` is a deprecated function and will be removed in a future version. Please adapt your code to use either `displot` (a figure-level function with similar flexibility) or `histplot` (an axes-level function for histograms).\n",
            "  warnings.warn(msg, FutureWarning)\n"
          ]
        },
        {
          "output_type": "stream",
          "name": "stdout",
          "text": [
            "AxesSubplot(0.125,0.125;0.775x0.755)\n"
          ]
        },
        {
          "output_type": "display_data",
          "data": {
            "image/png": "[encoded data removed]",
            "text/plain": [
              "<Figure size 432x288 with 1 Axes>"
            ]
          },
          "metadata": {}
        }
      ]
    },
    {
      "cell_type": "code",
      "metadata": {
        "colab": {
          "base_uri": "https://localhost:8080/",
          "height": 356
        },
        "id": "zAmmNNmZxtLX",
        "outputId": "96fa8a4f-43ef-4d4b-b439-d6f17bedd71e"
      },
      "source": [
        "# finding distribution of Age column\n",
        "print(sns.distplot(dataset['HeartDisease']))"
      ],
      "execution_count": 124,
      "outputs": [
        {
          "output_type": "stream",
          "name": "stderr",
          "text": [
            "/usr/local/lib/python3.7/dist-packages/seaborn/distributions.py:2619: FutureWarning: `distplot` is a deprecated function and will be removed in a future version. Please adapt your code to use either `displot` (a figure-level function with similar flexibility) or `histplot` (an axes-level function for histograms).\n",
            "  warnings.warn(msg, FutureWarning)\n"
          ]
        },
        {
          "output_type": "stream",
          "name": "stdout",
          "text": [
            "AxesSubplot(0.125,0.125;0.775x0.755)\n"
          ]
        },
        {
          "output_type": "display_data",
          "data": {
            "image/png": "[encoded data removed]",
            "text/plain": [
              "<Figure size 432x288 with 1 Axes>"
            ]
          },
          "metadata": {}
        }
      ]
    },
    {
      "cell_type": "code",
      "metadata": {
        "id": "j05iilRlyU-R"
      },
      "source": [
        "# Finding Correlation in the dataset\n",
        "\n",
        "correlation =dataset.corr()"
      ],
      "execution_count": 125,
      "outputs": []
    },
    {
      "cell_type": "code",
      "metadata": {
        "colab": {
          "base_uri": "https://localhost:8080/",
          "height": 601
        },
        "id": "uacQP-C-yZlE",
        "outputId": "6547821e-3f75-4402-bef7-0c54a873b1ce"
      },
      "source": [
        "#constructing a heatmap to understand the correlation\n",
        "plt.figure(figsize=(10,10))\n",
        "sns.heatmap(correlation,cbar=True,square=True,fmt='.1f',annot=True,\n",
        "            annot_kws={'size':8},cmap=\"Oranges_r\")"
      ],
      "execution_count": 126,
      "outputs": [
        {
          "output_type": "execute_result",
          "data": {
            "text/plain": [
              "<matplotlib.axes._subplots.AxesSubplot at 0x7fe9dc622690>"
            ]
          },
          "metadata": {},
          "execution_count": 126
        },
        {
          "output_type": "display_data",
          "data": {
            "image/png": "[encoded data removed]",
            "text/plain": [
              "<Figure size 720x720 with 2 Axes>"
            ]
          },
          "metadata": {}
        }
      ]
    },
    {
      "cell_type": "markdown",
      "metadata": {
        "id": "1fC8b2vlyKUh"
      },
      "source": [
        "# **Data Processing**"
      ]
    },
    {
      "cell_type": "code",
      "metadata": {
        "id": "sFnNPrWcwz10"
      },
      "source": [
        "\n",
        "#Converting text to numerical values\n",
        "dataset.replace({'Sex':{'M':0,'F':1}},inplace=True)\n"
      ],
      "execution_count": 127,
      "outputs": []
    },
    {
      "cell_type": "code",
      "metadata": {
        "id": "r3thxcb-zCI7"
      },
      "source": [
        "dataset.replace({'ExerciseAngina':{'N':0,'Y':1}},inplace=True)"
      ],
      "execution_count": 128,
      "outputs": []
    },
    {
      "cell_type": "code",
      "metadata": {
        "id": "kkqsW0PDzX5c"
      },
      "source": [
        "dataset.replace({'ChestPainType':{'ATA':0,'NAP':1, 'ASY':2 , 'TA':3}},inplace=True)"
      ],
      "execution_count": 129,
      "outputs": []
    },
    {
      "cell_type": "code",
      "metadata": {
        "id": "WGC71bd7z0X8"
      },
      "source": [
        "dataset.replace({'RestingECG':{'Normal':0,'LVH':1, 'ST':2}},inplace=True)"
      ],
      "execution_count": 130,
      "outputs": []
    },
    {
      "cell_type": "code",
      "metadata": {
        "id": "QKwD3xCaz2cz"
      },
      "source": [
        "dataset.replace({'ST_Slope':{'Up':0,'Flat':1, 'Down':2}},inplace=True)"
      ],
      "execution_count": 131,
      "outputs": []
    },
    {
      "cell_type": "code",
      "metadata": {
        "colab": {
          "base_uri": "https://localhost:8080/",
          "height": 204
        },
        "id": "K8tJ-HzSyuVt",
        "outputId": "154d53cb-8dc0-4821-8e3e-1c561ce104d8"
      },
      "source": [
        "dataset.head()"
      ],
      "execution_count": 132,
      "outputs": [
        {
          "output_type": "execute_result",
          "data": {
            "text/html": [
              "<div>\n",
              "<style scoped>\n",
              "    .dataframe tbody tr th:only-of-type {\n",
              "        vertical-align: middle;\n",
              "    }\n",
              "\n",
              "    .dataframe tbody tr th {\n",
              "        vertical-align: top;\n",
              "    }\n",
              "\n",
              "    .dataframe thead th {\n",
              "        text-align: right;\n",
              "    }\n",
              "</style>\n",
              "<table border=\"1\" class=\"dataframe\">\n",
              "  <thead>\n",
              "    <tr style=\"text-align: right;\">\n",
              "      <th></th>\n",
              "      <th>Age</th>\n",
              "      <th>Sex</th>\n",
              "      <th>ChestPainType</th>\n",
              "      <th>RestingBP</th>\n",
              "      <th>Cholesterol</th>\n",
              "      <th>FastingBS</th>\n",
              "      <th>RestingECG</th>\n",
              "      <th>MaxHR</th>\n",
              "      <th>ExerciseAngina</th>\n",
              "      <th>Oldpeak</th>\n",
              "      <th>ST_Slope</th>\n",
              "      <th>HeartDisease</th>\n",
              "    </tr>\n",
              "  </thead>\n",
              "  <tbody>\n",
              "    <tr>\n",
              "      <th>0</th>\n",
              "      <td>40</td>\n",
              "      <td>0</td>\n",
              "      <td>0</td>\n",
              "      <td>140</td>\n",
              "      <td>289</td>\n",
              "      <td>0</td>\n",
              "      <td>0</td>\n",
              "      <td>172</td>\n",
              "      <td>0</td>\n",
              "      <td>0.0</td>\n",
              "      <td>0</td>\n",
              "      <td>0</td>\n",
              "    </tr>\n",
              "    <tr>\n",
              "      <th>1</th>\n",
              "      <td>49</td>\n",
              "      <td>1</td>\n",
              "      <td>1</td>\n",
              "      <td>160</td>\n",
              "      <td>180</td>\n",
              "      <td>0</td>\n",
              "      <td>0</td>\n",
              "      <td>156</td>\n",
              "      <td>0</td>\n",
              "      <td>1.0</td>\n",
              "      <td>1</td>\n",
              "      <td>1</td>\n",
              "    </tr>\n",
              "    <tr>\n",
              "      <th>2</th>\n",
              "      <td>37</td>\n",
              "      <td>0</td>\n",
              "      <td>0</td>\n",
              "      <td>130</td>\n",
              "      <td>283</td>\n",
              "      <td>0</td>\n",
              "      <td>2</td>\n",
              "      <td>98</td>\n",
              "      <td>0</td>\n",
              "      <td>0.0</td>\n",
              "      <td>0</td>\n",
              "      <td>0</td>\n",
              "    </tr>\n",
              "    <tr>\n",
              "      <th>3</th>\n",
              "      <td>48</td>\n",
              "      <td>1</td>\n",
              "      <td>2</td>\n",
              "      <td>138</td>\n",
              "      <td>214</td>\n",
              "      <td>0</td>\n",
              "      <td>0</td>\n",
              "      <td>108</td>\n",
              "      <td>1</td>\n",
              "      <td>1.5</td>\n",
              "      <td>1</td>\n",
              "      <td>1</td>\n",
              "    </tr>\n",
              "    <tr>\n",
              "      <th>4</th>\n",
              "      <td>54</td>\n",
              "      <td>0</td>\n",
              "      <td>1</td>\n",
              "      <td>150</td>\n",
              "      <td>195</td>\n",
              "      <td>0</td>\n",
              "      <td>0</td>\n",
              "      <td>122</td>\n",
              "      <td>0</td>\n",
              "      <td>0.0</td>\n",
              "      <td>0</td>\n",
              "      <td>0</td>\n",
              "    </tr>\n",
              "  </tbody>\n",
              "</table>\n",
              "</div>"
            ],
            "text/plain": [
              "   Age  Sex  ChestPainType  ...  Oldpeak  ST_Slope  HeartDisease\n",
              "0   40    0              0  ...      0.0         0             0\n",
              "1   49    1              1  ...      1.0         1             1\n",
              "2   37    0              0  ...      0.0         0             0\n",
              "3   48    1              2  ...      1.5         1             1\n",
              "4   54    0              1  ...      0.0         0             0\n",
              "\n",
              "[5 rows x 12 columns]"
            ]
          },
          "metadata": {},
          "execution_count": 132
        }
      ]
    },
    {
      "cell_type": "markdown",
      "metadata": {
        "id": "APistvLL1y-h"
      },
      "source": [
        "# **Separating Target**"
      ]
    },
    {
      "cell_type": "code",
      "metadata": {
        "id": "yGaxiTv50qPY"
      },
      "source": [
        "x = dataset.drop(columns=['HeartDisease'])\n",
        "y=dataset['HeartDisease']\n"
      ],
      "execution_count": 133,
      "outputs": []
    },
    {
      "cell_type": "code",
      "metadata": {
        "colab": {
          "base_uri": "https://localhost:8080/"
        },
        "id": "fYRBjDo11lAN",
        "outputId": "29439ce1-ef3f-4882-dcc6-ed2e0bc01803"
      },
      "source": [
        "print(x,y)"
      ],
      "execution_count": 134,
      "outputs": [
        {
          "output_type": "stream",
          "name": "stdout",
          "text": [
            "     Age  Sex  ChestPainType  ...  ExerciseAngina  Oldpeak  ST_Slope\n",
            "0     40    0              0  ...               0      0.0         0\n",
            "1     49    1              1  ...               0      1.0         1\n",
            "2     37    0              0  ...               0      0.0         0\n",
            "3     48    1              2  ...               1      1.5         1\n",
            "4     54    0              1  ...               0      0.0         0\n",
            "..   ...  ...            ...  ...             ...      ...       ...\n",
            "913   45    0              3  ...               0      1.2         1\n",
            "914   68    0              2  ...               0      3.4         1\n",
            "915   57    0              2  ...               1      1.2         1\n",
            "916   57    1              0  ...               0      0.0         1\n",
            "917   38    0              1  ...               0      0.0         0\n",
            "\n",
            "[918 rows x 11 columns] 0      0\n",
            "1      1\n",
            "2      0\n",
            "3      1\n",
            "4      0\n",
            "      ..\n",
            "913    1\n",
            "914    1\n",
            "915    1\n",
            "916    1\n",
            "917    0\n",
            "Name: HeartDisease, Length: 918, dtype: int64\n"
          ]
        }
      ]
    },
    {
      "cell_type": "code",
      "metadata": {
        "colab": {
          "base_uri": "https://localhost:8080/"
        },
        "id": "6zqhnDbC19PT",
        "outputId": "6a505eb5-d59d-43e3-a704-b70b77db8b11"
      },
      "source": [
        "#spliting test and training data\n",
        "x_train,x_test,y_train,y_test = train_test_split(x.values,y.values,test_size=0.2,random_state=2)\n",
        "\n",
        "print(x.shape,x_train.shape,x_test.shape)"
      ],
      "execution_count": 136,
      "outputs": [
        {
          "output_type": "stream",
          "name": "stdout",
          "text": [
            "(918, 11) (734, 11) (184, 11)\n"
          ]
        }
      ]
    },
    {
      "cell_type": "markdown",
      "metadata": {
        "id": "wR4fJYaf2Gi5"
      },
      "source": [
        "# **Train Model**"
      ]
    },
    {
      "cell_type": "code",
      "metadata": {
        "id": "VrqW0wim7JyR"
      },
      "source": [
        "from sklearn.ensemble import RandomForestRegressor"
      ],
      "execution_count": 161,
      "outputs": []
    },
    {
      "cell_type": "code",
      "metadata": {
        "id": "68XjjiQV1MEX"
      },
      "source": [
        "model=XGBRegressor()"
      ],
      "execution_count": 170,
      "outputs": []
    },
    {
      "cell_type": "code",
      "metadata": {
        "id": "obRTI3F_7LtW"
      },
      "source": [
        "#model=RandomForestRegressor()"
      ],
      "execution_count": 162,
      "outputs": []
    },
    {
      "cell_type": "code",
      "metadata": {
        "colab": {
          "base_uri": "https://localhost:8080/"
        },
        "id": "jmHYkjzs2Mzk",
        "outputId": "7b6fb723-185d-486e-c0ab-2925a89796d4"
      },
      "source": [
        "#training the model\n",
        "model.fit(x_train,y_train)"
      ],
      "execution_count": 171,
      "outputs": [
        {
          "output_type": "stream",
          "name": "stdout",
          "text": [
            "[15:18:08] WARNING: /workspace/src/objective/regression_obj.cu:152: reg:linear is now deprecated in favor of reg:squarederror.\n"
          ]
        },
        {
          "output_type": "execute_result",
          "data": {
            "text/plain": [
              "XGBRegressor(base_score=0.5, booster='gbtree', colsample_bylevel=1,\n",
              "             colsample_bynode=1, colsample_bytree=1, gamma=0,\n",
              "             importance_type='gain', learning_rate=0.1, max_delta_step=0,\n",
              "             max_depth=3, min_child_weight=1, missing=None, n_estimators=100,\n",
              "             n_jobs=1, nthread=None, objective='reg:linear', random_state=0,\n",
              "             reg_alpha=0, reg_lambda=1, scale_pos_weight=1, seed=None,\n",
              "             silent=None, subsample=1, verbosity=1)"
            ]
          },
          "metadata": {},
          "execution_count": 171
        }
      ]
    },
    {
      "cell_type": "code",
      "metadata": {
        "colab": {
          "base_uri": "https://localhost:8080/"
        },
        "id": "nlz6Pxfc2a48",
        "outputId": "beb05051-a658-465f-9a13-2f1bed0d834e"
      },
      "source": [
        "x_train_prediction=model.predict(x_train)\n",
        "\n",
        "print(x_train_prediction)"
      ],
      "execution_count": 172,
      "outputs": [
        {
          "output_type": "stream",
          "name": "stdout",
          "text": [
            "[ 9.72487330e-01  7.09497929e-03  9.84167695e-01  9.97125149e-01\n",
            "  8.33294630e-01  1.36124790e-01  8.85182619e-02  8.69025111e-01\n",
            "  1.96162850e-01  8.29715848e-01  5.85439205e-02  8.57110023e-01\n",
            "  6.58083022e-01  2.93491393e-01  8.61505508e-01 -8.14386606e-02\n",
            "  9.60728407e-01  9.86101866e-01  8.09799492e-01  5.21533310e-01\n",
            "  7.62857318e-01  9.64935899e-01 -5.97956181e-02  1.88253641e-01\n",
            "  9.34069753e-01  3.68006080e-01  1.14234954e-01  9.88485456e-01\n",
            "  3.86265308e-01  3.32538188e-02  9.81919885e-01  2.00645447e-01\n",
            "  9.89931822e-01  9.51525867e-01  7.13861883e-01  3.77230048e-02\n",
            "  9.11967516e-01  9.72029924e-01  8.66558373e-01  2.43272573e-01\n",
            "  4.50800359e-02 -8.76647234e-03  7.82123327e-01  9.78297293e-01\n",
            "  9.00135934e-02  8.97800207e-01 -3.74232531e-02 -2.48019695e-02\n",
            "  2.76601911e-02  5.21747351e-01  3.06891263e-01  7.63878942e-01\n",
            "  9.20421779e-02  1.09247029e-01  1.30145639e-01  5.35856307e-01\n",
            "  9.02921319e-01  9.49082136e-01  1.38652623e-02  6.19230688e-01\n",
            "  3.31786335e-01  7.67647445e-01  1.02578509e+00  9.38997149e-01\n",
            "  7.53656507e-01  8.31871688e-01  9.89000797e-01  8.46799374e-01\n",
            "  4.68511879e-01  8.13093662e-01  2.64160722e-01 -1.88512802e-02\n",
            "  5.15017807e-02 -5.88275790e-02  9.86317992e-01 -3.00475359e-02\n",
            "  1.02084470e+00  6.35474443e-01  1.71646178e-01  1.02619338e+00\n",
            "  1.05490077e+00  2.89119959e-01  3.85257244e-01 -3.61126065e-02\n",
            "  9.88954782e-01  8.40089560e-01 -1.43504143e-02  9.71068621e-01\n",
            "  1.06840408e+00  2.50789702e-01 -3.32879424e-02  1.97273463e-01\n",
            "  7.22678483e-01  9.17299032e-01  2.21596181e-01  5.31035364e-01\n",
            "  1.03175402e+00 -1.52959228e-02  9.64289665e-01  1.48236752e-01\n",
            " -1.86328888e-02  1.64307624e-01  3.70564163e-02  7.27737010e-01\n",
            "  2.53646046e-01  8.51917624e-01  1.52367681e-01  9.76177335e-01\n",
            "  9.72401500e-01  8.08663964e-01  9.34096336e-01  8.58140111e-01\n",
            "  1.02557147e+00  9.62856174e-01  9.87777412e-01  3.42586339e-02\n",
            "  4.38479573e-01  9.62157845e-01  4.89728451e-02 -2.54333019e-02\n",
            "  1.81467146e-01  2.13814914e-01  9.55708265e-01  2.47232467e-01\n",
            " -1.52698159e-02  7.65513778e-01  6.53792739e-01  3.60871494e-01\n",
            "  1.00592768e+00 -6.80059195e-03  8.21808577e-01  8.40955794e-01\n",
            "  5.73338926e-01  8.07363212e-01  9.00924683e-01  7.84998894e-01\n",
            "  9.96681511e-01  9.01441097e-01  9.49526191e-01  3.31273019e-01\n",
            "  1.04341388e+00  8.21308970e-01 -2.26716399e-02  2.94365644e-01\n",
            "  9.72616673e-01  8.28524351e-01  1.06492066e+00  2.26900309e-01\n",
            "  5.85233748e-01 -7.25792050e-02  7.68798113e-01  8.71350169e-01\n",
            "  8.57605875e-01  9.55170274e-01  9.29146051e-01  8.63279581e-01\n",
            "  8.97480011e-01  9.27369118e-01  9.03654933e-01  7.42520988e-02\n",
            "  7.11771846e-01  8.12226772e-01  4.11513746e-02  1.02619743e+00\n",
            "  9.92380619e-01  1.27252728e-01  9.33377743e-02  1.03733206e+00\n",
            " -5.63672185e-02  8.15067291e-01  9.06148672e-01  7.62645125e-01\n",
            "  1.13778710e-02  8.58847797e-02 -1.69051886e-02  9.31049824e-01\n",
            "  1.81525946e-04  6.57139719e-02 -5.40502071e-02  9.84067202e-01\n",
            "  9.36108708e-01  9.80203211e-01  6.21309161e-01  2.97112465e-02\n",
            "  8.91321838e-01  9.29674625e-01  7.53736973e-01  3.65697384e-01\n",
            " -5.37439585e-02  9.00689602e-01  1.51406705e-01  3.84772122e-01\n",
            "  8.25260878e-01  9.87143874e-01  9.71876979e-01  4.08480436e-01\n",
            "  7.78550267e-01  9.61333752e-01  9.28512096e-01  9.59319472e-01\n",
            " -1.14970088e-01 -5.71818948e-02  9.84934926e-01 -1.06620252e-01\n",
            "  3.04965615e-01  7.41042793e-02  2.07184970e-01  7.65298605e-01\n",
            "  1.07371688e+00  9.88894224e-01  1.25269979e-01  5.92263699e-01\n",
            "  1.10032439e+00  9.02618051e-01  9.58887100e-01  9.70291376e-01\n",
            "  5.18112183e-02  1.02832079e-01  8.11805487e-01  7.66437650e-01\n",
            " -1.94051266e-02  9.38195229e-01  9.36310589e-01  1.06590962e+00\n",
            "  3.30511391e-01  1.00045085e+00  1.01616418e+00  9.80911255e-01\n",
            "  2.81664491e-01  9.35781837e-01  1.12450421e-01  2.13935077e-02\n",
            "  6.45354569e-01 -3.48166227e-02  9.23235357e-01  2.54910648e-01\n",
            "  9.45067465e-01 -8.60070586e-02 -8.41665268e-02 -5.41964769e-02\n",
            "  1.71140432e-01  3.10041845e-01  8.22216392e-01  9.01389420e-02\n",
            "  8.35923374e-01  9.37268555e-01  1.55804515e-01  9.50179696e-01\n",
            "  5.55346310e-02  2.96913564e-01  8.97415519e-01  7.35180378e-02\n",
            " -1.62304640e-02  9.86904502e-01  9.75880504e-01  9.11756217e-01\n",
            "  5.45781612e-01  9.84927297e-01  7.64370859e-01  5.34862876e-01\n",
            "  5.98816812e-01  1.04246593e+00 -1.44762397e-02  2.57674038e-01\n",
            "  1.24015212e-01  8.72248769e-01  7.34210312e-01  9.68375444e-01\n",
            "  9.00059223e-01  7.24173605e-01  1.00658202e+00  3.96275043e-01\n",
            "  1.04032183e+00  2.19369143e-01  3.56507361e-01  9.61198628e-01\n",
            "  1.08956009e-01  3.36919487e-01  3.90428334e-01  4.32597995e-02\n",
            " -3.00290585e-02  9.73917723e-01  9.72714663e-01  9.61111069e-01\n",
            " -4.35638428e-02  7.95403361e-01  1.97104514e-02  5.85625768e-01\n",
            "  1.00567865e+00  9.01880562e-01  3.08516622e-03 -6.90365434e-02\n",
            "  9.82562304e-01  9.97610033e-01  1.01488805e+00  2.91435421e-02\n",
            "  2.17262685e-01 -2.26455331e-02  1.05307066e+00  2.93339014e-01\n",
            "  8.61423492e-01  1.43248469e-01 -3.80219221e-02 -1.93827152e-02\n",
            "  6.73995256e-01  9.35523450e-01 -7.54183531e-02  6.36436224e-01\n",
            " -1.20292306e-02  9.61396575e-01  9.04155135e-01  8.55500579e-01\n",
            "  9.19770002e-01  9.74186897e-01  8.61423492e-01  9.83733296e-01\n",
            "  9.29116666e-01  1.83796287e-01  1.17883384e-01  4.77171540e-02\n",
            "  8.74369204e-01 -1.64381266e-02  1.71002239e-01  6.39491677e-02\n",
            "  9.05128479e-01  9.40304160e-01  8.40993881e-01  9.51525867e-01\n",
            "  9.39411402e-01  5.66764235e-01  9.54917192e-01  9.75333095e-01\n",
            "  1.93493664e-02  7.67401159e-02  1.03452635e+00  1.77509189e-02\n",
            " -7.56335855e-02  6.37919068e-01  5.53463101e-02  1.06422639e+00\n",
            "  1.03607297e+00  1.80382609e-01  2.51528770e-01 -9.19753313e-02\n",
            "  7.06620336e-01  9.91709232e-01  1.00352609e+00  7.92628825e-02\n",
            "  9.46393728e-01  1.52959764e-01  6.39483154e-01  7.16118515e-02\n",
            "  8.52812529e-01  8.91380847e-01  7.43185163e-01  1.04897809e+00\n",
            "  9.27956939e-01  1.30422175e-01  9.91865277e-01  9.72708344e-01\n",
            "  2.28730947e-01  8.21063399e-01  9.01538372e-01  9.94088292e-01\n",
            "  9.41071153e-01  1.01010621e+00  1.00741410e+00  9.34576631e-01\n",
            "  3.27921361e-01  1.06115937e+00  6.09309673e-02  5.26236653e-01\n",
            "  9.66866434e-01 -4.01718616e-02  9.39473629e-01  9.83236551e-01\n",
            "  9.73111868e-01  4.07658517e-02 -1.74549222e-02  5.98720193e-01\n",
            " -2.32297182e-03  4.75469500e-01  2.09438950e-01  2.03711897e-01\n",
            "  8.34505439e-01  7.99073815e-01  1.88629776e-01  2.08363116e-01\n",
            "  2.17121840e-03  9.43183541e-01 -7.23838806e-03  9.05617833e-01\n",
            "  5.03496468e-01  8.76007318e-01  6.82469189e-01  7.66752601e-01\n",
            "  7.47956157e-01 -4.49279547e-02  3.98119330e-01  9.99176502e-03\n",
            "  9.61219370e-01  1.10449994e+00 -7.50660896e-04  7.06755400e-01\n",
            " -1.64640546e-02  7.81176090e-02  9.75199521e-01  7.41031229e-01\n",
            "  5.41934669e-02  7.42291808e-02  1.06840408e+00  9.06846285e-01\n",
            "  1.02470863e+00  9.92558599e-01  1.03918862e+00  4.79577780e-02\n",
            "  5.85573018e-02  1.90478086e-01  2.34389305e-02  9.80194449e-01\n",
            "  9.88094330e-01  3.18270624e-01  9.98969078e-01  5.28119445e-01\n",
            "  4.34321105e-01  3.36705387e-01  9.07356322e-01  7.17937648e-02\n",
            "  3.42954993e-01  1.01619810e-01  9.13192511e-01  4.58779246e-01\n",
            "  2.58961678e-01  2.60394990e-01 -3.75337601e-02  4.59263980e-01\n",
            "  4.40815002e-01  1.69156522e-01  6.96907640e-02  7.79835582e-01\n",
            "  9.69927192e-01  5.73431432e-01  9.60351110e-01  5.93383908e-02\n",
            "  1.69131100e-01  1.01259303e+00  9.95728970e-01  9.24884140e-01\n",
            "  9.89422977e-01  1.51728213e-01  9.01310682e-01  7.98870623e-02\n",
            "  4.57411706e-01 -1.05825663e-02  3.17923129e-02  8.55825424e-01\n",
            "  8.71264100e-01  9.05492783e-01  6.76898718e-01  1.04065120e+00\n",
            "  4.89408642e-01  1.74850494e-01  1.13393724e-01  7.17795491e-01\n",
            "  7.58413076e-01  8.58371735e-01  8.56066883e-01  5.64438701e-02\n",
            "  9.18288231e-01  8.31703842e-01 -6.00236654e-02  1.00990331e+00\n",
            " -8.14648867e-02  9.23053622e-01  1.04184389e+00  1.14264101e-01\n",
            "  9.60154533e-01  2.34360993e-01  5.89475513e-01  1.00180030e+00\n",
            "  8.35055828e-01  7.35728443e-02  2.68353403e-01  8.11568141e-01\n",
            "  8.52497220e-01  7.98869848e-01  1.96131110e-01  8.11658800e-02\n",
            "  9.96683478e-01  2.00214803e-01  1.09124708e+00  1.04288876e+00\n",
            "  5.13275862e-02 -8.50784779e-03  9.54710424e-01  8.74007285e-01\n",
            "  9.66577411e-01  3.17666292e-01  8.15862715e-02  7.74351835e-01\n",
            "  5.07939696e-01 -7.85977244e-02  1.88215315e-01  2.46010423e-01\n",
            " -2.55918503e-02  7.82917738e-02  5.19573867e-01  1.00037241e+00\n",
            "  1.83360010e-01  1.21233821e-01  8.96705508e-01  1.02339554e+00\n",
            "  9.66805696e-01  8.89597595e-01  6.50941968e-01  9.74186897e-01\n",
            "  8.41078460e-01  1.07701039e+00  1.04336047e+00  7.39357829e-01\n",
            "  9.33844149e-01 -2.05302238e-03  6.45726919e-01  7.95514047e-01\n",
            "  3.37550104e-01  7.75170565e-01  9.65749741e-01  4.82917279e-01\n",
            "  8.85462105e-01  9.03722882e-01  8.92070234e-02  4.00139987e-02\n",
            "  8.35993707e-01  9.94750142e-01  8.69489551e-01 -7.93290138e-02\n",
            "  7.88444400e-01  9.54301298e-01 -3.45246196e-02  7.01252043e-01\n",
            "  9.63163555e-01  9.38138247e-01  7.39230156e-01  7.04589844e-01\n",
            " -5.71818948e-02  1.10097408e+00  3.84679437e-03  9.27253962e-01\n",
            "  8.77333522e-01  1.91153497e-01 -3.64843011e-02  1.71395510e-01\n",
            "  4.88784939e-01  2.02631056e-02  1.01429224e+00  7.12533355e-01\n",
            "  5.71659625e-01  1.75962150e-01  3.75566721e-01  6.45922184e-01\n",
            "  6.48147106e-01  3.51993144e-02 -7.74208903e-02  3.24952006e-02\n",
            "  9.55357134e-01  8.80331695e-02  3.38686407e-01  9.14253175e-01\n",
            "  8.45691800e-01  9.38138247e-01 -1.30057335e-04  4.66721147e-01\n",
            "  4.86155391e-01  7.47609377e-01 -4.95207906e-02  1.03870654e+00\n",
            "  7.08997369e-01  2.81723380e-01  9.73628640e-01 -1.12858415e-02\n",
            "  9.25964534e-01  2.65146375e-01  7.49967098e-01  9.66003180e-01\n",
            "  8.47971082e-01  9.13607597e-01 -3.78721952e-03  3.13643873e-01\n",
            "  1.84251070e-02  7.56164312e-01  4.10962760e-01  1.78359747e-02\n",
            " -3.94438505e-02 -2.42799520e-02  7.83224702e-01  8.96953225e-01\n",
            " -4.67350483e-02  8.77977550e-01  2.25750029e-01  3.12978059e-01\n",
            "  9.83236551e-01  1.00377464e+00  9.76315618e-01  3.80536616e-02\n",
            "  2.63850212e-01  2.10789442e-02  9.76763487e-01  5.17504215e-02\n",
            "  9.21828330e-01  1.05244076e+00  2.84449160e-02  1.66377723e-01\n",
            "  8.57436419e-01  1.01436639e+00 -4.20607924e-02  5.54678261e-01\n",
            "  5.66007555e-01  9.09122407e-01 -3.99811864e-02  1.54616147e-01\n",
            "  7.43044198e-01  6.36562407e-01  1.01835012e+00  2.83433795e-02\n",
            "  2.40761042e-01  9.55932319e-01  8.43174338e-01  9.95483458e-01\n",
            "  9.32753503e-01 -1.52959228e-02  9.52861190e-01  5.34273028e-01\n",
            "  7.92405427e-01  8.92287254e-01  8.54362011e-01 -7.55047798e-03\n",
            " -2.59591937e-02 -1.32111907e-02 -1.61707401e-03  8.90005350e-01\n",
            "  1.05515933e+00  1.00955892e+00  8.84188235e-01  9.51621175e-01\n",
            "  7.44307876e-01  9.60963070e-02  1.07228768e+00  4.10947621e-01\n",
            "  9.47057724e-01  7.90397048e-01 -6.24057055e-02  6.41760349e-01\n",
            "  9.69669640e-01  2.50778854e-01  9.27819252e-01  1.06841493e+00\n",
            "  9.64960515e-01  1.65546656e-01  9.05947387e-01 -1.28154159e-02\n",
            "  8.22679102e-02  9.17404592e-01  1.29806042e-01  4.33497429e-02\n",
            "  9.80119467e-01  6.80975676e-01  8.45370889e-01  1.07130319e-01\n",
            "  9.90097284e-01  1.05438352e+00  7.34255493e-01  9.40517902e-01\n",
            "  6.22262836e-01  7.83928216e-01 -4.72797155e-02  9.49304581e-01\n",
            "  9.34069753e-01  7.08684504e-01  1.09660339e+00  7.12141693e-02\n",
            " -3.19401622e-02  7.75008142e-01  1.03266704e+00  3.98674905e-01\n",
            "  9.84162569e-01  9.34048414e-01  1.05655730e+00  9.42584455e-01\n",
            "  1.06393707e+00  8.87991428e-01  9.97877121e-03 -4.44738865e-02\n",
            "  6.83342457e-01  8.07440221e-01  9.51954961e-01  9.98817563e-01\n",
            "  9.72985506e-01  7.53844142e-01  9.77881253e-01  1.02450240e+00\n",
            " -4.47220206e-02  9.08522725e-01  1.28821194e-01  8.86866331e-01\n",
            "  8.18482399e-01  7.28930414e-01  1.85204685e-01  2.61411071e-02\n",
            "  6.49048030e-01  7.55523443e-02  4.80992556e-01  3.67622733e-01\n",
            "  7.82750726e-01  8.80053639e-02  9.54532206e-01  3.63325685e-01\n",
            " -2.26716399e-02  1.41309947e-01  3.26174200e-02  8.77262592e-01\n",
            "  2.98982143e-01  1.00643253e+00  9.37662244e-01  7.26633072e-01\n",
            "  8.93784463e-01  9.58511949e-01  1.17703676e-02  8.92715693e-01\n",
            "  9.68336344e-01  9.31654572e-01  9.90431666e-01  9.73039925e-01\n",
            "  4.07769680e-02  2.42686868e-01]\n"
          ]
        }
      ]
    },
    {
      "cell_type": "markdown",
      "metadata": {
        "id": "xJQ5gS_N2gXx"
      },
      "source": [
        "# **Evaluation---->part**"
      ]
    },
    {
      "cell_type": "code",
      "metadata": {
        "colab": {
          "base_uri": "https://localhost:8080/"
        },
        "id": "Df9fS9Jo2dcz",
        "outputId": "ef71cccf-e9e8-4a24-bb0c-144700b83461"
      },
      "source": [
        "\n",
        "#Prediction\n",
        "\n",
        "test_data_prediction=model.predict(x_test)\n",
        "print(test_data_prediction)\n"
      ],
      "execution_count": 173,
      "outputs": [
        {
          "output_type": "stream",
          "name": "stdout",
          "text": [
            "[ 3.99891526e-01  9.57519233e-01  9.42831874e-01  2.77086526e-01\n",
            "  9.37871516e-01  9.32165742e-01 -8.42787623e-02  3.68070364e-01\n",
            "  2.87088454e-02  1.04660916e+00  8.57400715e-01  4.51390147e-01\n",
            "  9.58888173e-01  8.70369077e-01  9.93267775e-01  1.98480487e-01\n",
            "  4.10824835e-01  9.44405854e-01  1.07975781e+00  5.39751530e-01\n",
            "  2.14552760e-01  5.90065718e-01 -5.52545786e-02  7.48220801e-01\n",
            "  9.94367719e-01  3.54052782e-01  9.44661498e-01  2.37437516e-01\n",
            " -8.14648867e-02  1.00058198e+00  7.52431512e-01  1.00838315e+00\n",
            "  1.78946763e-01  7.72768736e-01  5.94749153e-02  2.00773388e-01\n",
            " -1.20292306e-02  1.99672371e-01  5.40783226e-01 -8.53922963e-02\n",
            "  1.02101445e+00  8.88809443e-01  6.10144734e-01  4.19445872e-01\n",
            "  1.00008094e+00  7.29990959e-01  9.94488955e-01 -7.50660896e-04\n",
            "  6.53319061e-02 -1.72731519e-01  1.45780593e-01  4.32597995e-02\n",
            "  6.39251173e-02  1.05182195e+00 -2.99947262e-02  9.31902528e-01\n",
            "  9.57449079e-01 -1.28756762e-02 -1.12528801e-02  2.36398280e-02\n",
            "  8.07968855e-01  3.14393699e-01  7.38965869e-01  1.73688769e-01\n",
            "  8.48017931e-01  3.09193313e-01  3.74363959e-02 -1.60892606e-02\n",
            "  1.05386138e-01  1.00971687e+00  5.06525397e-01  7.26548195e-01\n",
            "  5.57388306e-01  9.30162430e-01  5.21107018e-01  4.63566869e-01\n",
            "  2.26957232e-01  6.85478926e-01  4.35645729e-01  4.06786859e-01\n",
            "  9.89182413e-01  6.18570983e-01  9.75204587e-01  9.98495221e-01\n",
            "  6.78677142e-01  8.08028221e-01  1.08037293e+00  9.01712060e-01\n",
            " -5.78492880e-03  1.87703609e-01  3.92509699e-02  5.43781817e-01\n",
            "  5.28063059e-01  1.47948861e-02  2.59731114e-02  5.05013287e-01\n",
            "  8.93664062e-01  8.19244623e-01  7.36456990e-01  1.00649595e-01\n",
            "  1.25818253e-02  8.70473266e-01  1.16906941e-01  6.78297758e-01\n",
            "  6.92389011e-01  8.73731017e-01  1.00380635e+00  9.51789260e-01\n",
            "  7.78748870e-01  8.32713783e-01  6.81607902e-01  2.27249146e-01\n",
            "  9.83134508e-02  9.62103903e-01  8.56122971e-01  9.97480035e-01\n",
            " -8.23475122e-02  7.08582282e-01  3.71501744e-01  5.83384573e-01\n",
            " -5.15716076e-02  2.97124863e-01  2.65002817e-01  7.84611225e-01\n",
            " -1.17184520e-02  3.45738977e-01  4.97558713e-03  7.20738411e-01\n",
            "  1.06241691e+00  8.84427786e-01  7.24370956e-01  2.84524739e-01\n",
            "  3.03140044e-01  3.76019627e-01  3.90822887e-01  3.52103472e-01\n",
            "  5.49939275e-03  5.12978435e-02 -4.00471687e-02  9.76994872e-01\n",
            "  8.15410972e-01  8.74409318e-01  8.61218572e-01 -5.81496954e-03\n",
            " -9.40746069e-03  8.58471274e-01  9.44638729e-01  9.56574917e-01\n",
            "  1.03887057e+00  8.95343959e-01  1.40859216e-01  1.33183300e-02\n",
            "  8.25675845e-01  1.41001940e-01  7.94790983e-01  4.36274439e-01\n",
            " -4.57817316e-03 -3.35826278e-02  8.56718004e-01  6.35600507e-01\n",
            " -5.22010326e-02  1.62150145e-01  7.83949554e-01  9.27819252e-01\n",
            "  6.94961071e-01  3.99338901e-01  3.00275385e-01 -4.63271141e-03\n",
            "  1.88215315e-01  7.20963001e-01  3.39109421e-01  9.34069753e-01\n",
            "  1.06840408e+00 -5.95861673e-03  8.90989304e-01  9.20594335e-01\n",
            " -2.17184424e-02  6.92191482e-01  9.46048141e-01  4.08287048e-01\n",
            "  9.61362243e-01  7.65397370e-01  9.95283663e-01  3.33041131e-01]\n"
          ]
        }
      ]
    },
    {
      "cell_type": "markdown",
      "metadata": {
        "id": "TLbbe2f126Tl"
      },
      "source": [
        "# **Mean Absolute Error**"
      ]
    },
    {
      "cell_type": "code",
      "metadata": {
        "colab": {
          "base_uri": "https://localhost:8080/"
        },
        "id": "vUppLHeL22zm",
        "outputId": "4d46d9e1-5b2d-46a5-88bc-268942e67934"
      },
      "source": [
        "m = metrics.mean_absolute_error(y_test,test_data_prediction)\n",
        "\n",
        "print(\"Mean Absolute Error : \",m)"
      ],
      "execution_count": 174,
      "outputs": [
        {
          "output_type": "stream",
          "name": "stdout",
          "text": [
            "Mean Absolute Error :  0.2310485585552195\n"
          ]
        }
      ]
    },
    {
      "cell_type": "code",
      "metadata": {
        "colab": {
          "base_uri": "https://localhost:8080/"
        },
        "id": "vnozWcaL2_b5",
        "outputId": "81543d86-4abf-4473-b698-7813ae591275"
      },
      "source": [
        "# R squared value\n",
        "r2_test = metrics.r2_score(y_test,test_data_prediction)\n",
        "print('R squared value : ',r2_test)"
      ],
      "execution_count": 175,
      "outputs": [
        {
          "output_type": "stream",
          "name": "stdout",
          "text": [
            "R squared value :  0.5497838350594944\n"
          ]
        }
      ]
    },
    {
      "cell_type": "code",
      "metadata": {
        "id": "5sfUcwMD3CFT"
      },
      "source": [
        "#input_data=[48,1,2,138,214,0,0,108,1,1.5,1]\n",
        "input_data=[37,0,0,130,283,0,2,98,0,0.0,0]\n",
        "input_data_as_numpy_array = np.asarray(input_data)"
      ],
      "execution_count": 176,
      "outputs": []
    },
    {
      "cell_type": "code",
      "metadata": {
        "colab": {
          "base_uri": "https://localhost:8080/"
        },
        "id": "yUA9-anS3H5T",
        "outputId": "6f63adbf-18fd-4e4c-cf0a-489e71c51f91"
      },
      "source": [
        "#reshape the array\n",
        "input_data_reshaped = input_data_as_numpy_array.reshape(1,-1)\n",
        "prediction =model.predict(input_data_reshaped)\n",
        "x=round(prediction[0])\n",
        "\n",
        "print('Heart Disease Prediction value : ',x,'\\n')\n",
        "\n",
        "if (x == 0 ):\n",
        "    print(\" This Person is Normal\")\n",
        "else:\n",
        "     print(\"This Person has HeartDisease\")\n"
      ],
      "execution_count": 180,
      "outputs": [
        {
          "output_type": "stream",
          "name": "stdout",
          "text": [
            "Heart Disease Prediction value :  0 \n",
            "\n",
            " This Person is Normal\n"
          ]
        }
      ]
    }
  ]
}