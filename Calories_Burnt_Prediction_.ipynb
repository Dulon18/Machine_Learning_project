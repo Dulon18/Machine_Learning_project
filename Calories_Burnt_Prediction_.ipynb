{
  "nbformat": 4,
  "nbformat_minor": 0,
  "metadata": {
    "colab": {
      "name": "Calories Burnt Prediction .ipynb",
      "provenance": [],
      "authorship_tag": "ABX9TyNcH6/mQfUWmxHt5z6B5hoZ",
      "include_colab_link": true
    },
    "kernelspec": {
      "name": "python3",
      "display_name": "Python 3"
    },
    "language_info": {
      "name": "python"
    },
    "accelerator": "GPU"
  },
  "cells": [
    {
      "cell_type": "markdown",
      "metadata": {
        "id": "view-in-github",
        "colab_type": "text"
      },
      "source": [
        "<a href=\"https://colab.research.google.com/github/Dulon18/Machine_Learning_project/blob/main/Calories_Burnt_Prediction_.ipynb\" target=\"_parent\"><img src=\"https://colab.research.google.com/assets/colab-badge.svg\" alt=\"Open In Colab\"/></a>"
      ]
    },
    {
      "cell_type": "code",
      "metadata": {
        "id": "aK8LF9jzVN4q"
      },
      "source": [
        "# Importing libraries..\n",
        "import numpy as np\n",
        "import pandas as pd\n",
        "import matplotlib.pyplot as plt\n",
        "import seaborn as sns\n",
        "from sklearn.model_selection import train_test_split\n",
        "from xgboost import XGBRegressor\n",
        "from sklearn import metrics\n"
      ],
      "execution_count": 39,
      "outputs": []
    },
    {
      "cell_type": "code",
      "metadata": {
        "id": "5_bD8ooJdwcq"
      },
      "source": [
        ""
      ],
      "execution_count": 39,
      "outputs": []
    },
    {
      "cell_type": "code",
      "metadata": {
        "colab": {
          "base_uri": "https://localhost:8080/"
        },
        "id": "tqaVbp82WRBc",
        "outputId": "cbb16053-60e5-41ce-9b85-cbb1c5b57b6d"
      },
      "source": [
        "# Data Collection -> From Kaggle\n",
        "#Loading calories dataset using pandas Dataframe\n",
        "cal_dataset = pd.read_csv(\"/content/calories.csv\")\n",
        "print('Calories Datasets first 5 row :\\n ',cal_dataset.head(),'\\n')\n",
        "\n",
        "#Loading exercise dataset using pandas Dataframe\n",
        "\n",
        "exercise_dataset = pd.read_csv(\"/content/exercise.csv\")\n",
        "print('Exercise Datasets first 5 row :\\n ',exercise_dataset.head(),'\\n')"
      ],
      "execution_count": 40,
      "outputs": [
        {
          "output_type": "stream",
          "name": "stdout",
          "text": [
            "Calories Datasets first 5 row :\n",
            "      User_ID  Calories\n",
            "0  14733363     231.0\n",
            "1  14861698      66.0\n",
            "2  11179863      26.0\n",
            "3  16180408      71.0\n",
            "4  17771927      35.0 \n",
            "\n",
            "Exercise Datasets first 5 row :\n",
            "      User_ID  Gender  Age  Height  Weight  Duration  Heart_Rate  Body_Temp\n",
            "0  14733363    male   68   190.0    94.0      29.0       105.0       40.8\n",
            "1  14861698  female   20   166.0    60.0      14.0        94.0       40.3\n",
            "2  11179863    male   69   179.0    79.0       5.0        88.0       38.7\n",
            "3  16180408  female   34   179.0    71.0      13.0       100.0       40.5\n",
            "4  17771927  female   27   154.0    58.0      10.0        81.0       39.8 \n",
            "\n"
          ]
        }
      ]
    },
    {
      "cell_type": "code",
      "metadata": {
        "id": "K_QhRGbGWVYC",
        "colab": {
          "base_uri": "https://localhost:8080/"
        },
        "outputId": "5016e724-fca5-4d25-e270-e1cef016e7a4"
      },
      "source": [
        "# Combining two Dataframes\n",
        "\n",
        "calories_dataset = pd.concat([exercise_dataset, cal_dataset['Calories']],axis=1)\n",
        "print(\" Combing two Datasets : \\n\",calories_dataset.head(),'\\n')\n",
        "print('Number of rows and columns : \\n',calories_dataset.shape)\n"
      ],
      "execution_count": 41,
      "outputs": [
        {
          "output_type": "stream",
          "name": "stdout",
          "text": [
            " Combing two Datasets : \n",
            "     User_ID  Gender  Age  Height  ...  Duration  Heart_Rate  Body_Temp  Calories\n",
            "0  14733363    male   68   190.0  ...      29.0       105.0       40.8     231.0\n",
            "1  14861698  female   20   166.0  ...      14.0        94.0       40.3      66.0\n",
            "2  11179863    male   69   179.0  ...       5.0        88.0       38.7      26.0\n",
            "3  16180408  female   34   179.0  ...      13.0       100.0       40.5      71.0\n",
            "4  17771927  female   27   154.0  ...      10.0        81.0       39.8      35.0\n",
            "\n",
            "[5 rows x 9 columns] \n",
            "\n",
            "Number of rows and columns : \n",
            " (15000, 9)\n"
          ]
        }
      ]
    },
    {
      "cell_type": "code",
      "metadata": {
        "id": "3dR6z2PWXgvc",
        "colab": {
          "base_uri": "https://localhost:8080/"
        },
        "outputId": "ab7cdbd1-28c0-4951-d9f1-5b72d526a15c"
      },
      "source": [
        "#Getting some information about data\n",
        "print(calories_dataset.info())"
      ],
      "execution_count": 42,
      "outputs": [
        {
          "output_type": "stream",
          "name": "stdout",
          "text": [
            "<class 'pandas.core.frame.DataFrame'>\n",
            "RangeIndex: 15000 entries, 0 to 14999\n",
            "Data columns (total 9 columns):\n",
            " #   Column      Non-Null Count  Dtype  \n",
            "---  ------      --------------  -----  \n",
            " 0   User_ID     15000 non-null  int64  \n",
            " 1   Gender      15000 non-null  object \n",
            " 2   Age         15000 non-null  int64  \n",
            " 3   Height      15000 non-null  float64\n",
            " 4   Weight      15000 non-null  float64\n",
            " 5   Duration    15000 non-null  float64\n",
            " 6   Heart_Rate  15000 non-null  float64\n",
            " 7   Body_Temp   15000 non-null  float64\n",
            " 8   Calories    15000 non-null  float64\n",
            "dtypes: float64(6), int64(2), object(1)\n",
            "memory usage: 1.0+ MB\n",
            "None\n"
          ]
        }
      ]
    },
    {
      "cell_type": "code",
      "metadata": {
        "id": "VRUkUBJNXkgS",
        "colab": {
          "base_uri": "https://localhost:8080/"
        },
        "outputId": "17c03331-7110-4a1f-973b-c411fd26a547"
      },
      "source": [
        "\n",
        "# checking for missing value\n",
        "print(\"Missing value : \\n\",calories_dataset.isnull().sum(),'\\n')"
      ],
      "execution_count": 43,
      "outputs": [
        {
          "output_type": "stream",
          "name": "stdout",
          "text": [
            "Missing value : \n",
            " User_ID       0\n",
            "Gender        0\n",
            "Age           0\n",
            "Height        0\n",
            "Weight        0\n",
            "Duration      0\n",
            "Heart_Rate    0\n",
            "Body_Temp     0\n",
            "Calories      0\n",
            "dtype: int64 \n",
            "\n"
          ]
        }
      ]
    },
    {
      "cell_type": "code",
      "metadata": {
        "id": "-isiSaF7Xn1i",
        "colab": {
          "base_uri": "https://localhost:8080/"
        },
        "outputId": "357bb38f-010e-4bc3-d1ce-30f5efee16d4"
      },
      "source": [
        "# Data Analysis-------->part..\n",
        "# Measure some statistical info\n",
        "print(' Statistical info : \\n',calories_dataset.describe(),'\\n')"
      ],
      "execution_count": 44,
      "outputs": [
        {
          "output_type": "stream",
          "name": "stdout",
          "text": [
            " Statistical info : \n",
            "             User_ID           Age  ...     Body_Temp      Calories\n",
            "count  1.500000e+04  15000.000000  ...  15000.000000  15000.000000\n",
            "mean   1.497736e+07     42.789800  ...     40.025453     89.539533\n",
            "std    2.872851e+06     16.980264  ...      0.779230     62.456978\n",
            "min    1.000116e+07     20.000000  ...     37.100000      1.000000\n",
            "25%    1.247419e+07     28.000000  ...     39.600000     35.000000\n",
            "50%    1.499728e+07     39.000000  ...     40.200000     79.000000\n",
            "75%    1.744928e+07     56.000000  ...     40.600000    138.000000\n",
            "max    1.999965e+07     79.000000  ...     41.500000    314.000000\n",
            "\n",
            "[8 rows x 8 columns] \n",
            "\n"
          ]
        }
      ]
    },
    {
      "cell_type": "code",
      "metadata": {
        "id": "P40UJRcYWedS",
        "colab": {
          "base_uri": "https://localhost:8080/",
          "height": 354
        },
        "outputId": "83bdd2bc-cb2e-4dab-be18-673a2bb0fe5b"
      },
      "source": [
        "# Data Visualization ------> part\n",
        "sns.set()\n",
        "sns.countplot(calories_dataset['Gender'])\n"
      ],
      "execution_count": 45,
      "outputs": [
        {
          "output_type": "stream",
          "name": "stderr",
          "text": [
            "/usr/local/lib/python3.7/dist-packages/seaborn/_decorators.py:43: FutureWarning: Pass the following variable as a keyword arg: x. From version 0.12, the only valid positional argument will be `data`, and passing other arguments without an explicit keyword will result in an error or misinterpretation.\n",
            "  FutureWarning\n"
          ]
        },
        {
          "output_type": "execute_result",
          "data": {
            "text/plain": [
              "<matplotlib.axes._subplots.AxesSubplot at 0x7f01e90021d0>"
            ]
          },
          "metadata": {},
          "execution_count": 45
        },
        {
          "output_type": "display_data",
          "data": {
            "image/png": "[encoded data removed]",
            "text/plain": [
              "<Figure size 432x288 with 1 Axes>"
            ]
          },
          "metadata": {}
        }
      ]
    },
    {
      "cell_type": "code",
      "metadata": {
        "id": "CO2FMIZ_Wuuy",
        "colab": {
          "base_uri": "https://localhost:8080/",
          "height": 354
        },
        "outputId": "398a381a-5559-4b6c-c09a-6e8d08da6491"
      },
      "source": [
        "# finding distribution of Age column\n",
        "print(sns.distplot(calories_dataset['Age']))"
      ],
      "execution_count": 46,
      "outputs": [
        {
          "output_type": "stream",
          "name": "stderr",
          "text": [
            "/usr/local/lib/python3.7/dist-packages/seaborn/distributions.py:2557: FutureWarning: `distplot` is a deprecated function and will be removed in a future version. Please adapt your code to use either `displot` (a figure-level function with similar flexibility) or `histplot` (an axes-level function for histograms).\n",
            "  warnings.warn(msg, FutureWarning)\n"
          ]
        },
        {
          "output_type": "stream",
          "name": "stdout",
          "text": [
            "AxesSubplot(0.125,0.125;0.775x0.755)\n"
          ]
        },
        {
          "output_type": "display_data",
          "data": {
            "image/png": "[encoded data removed]",
            "text/plain": [
              "<Figure size 432x288 with 1 Axes>"
            ]
          },
          "metadata": {}
        }
      ]
    },
    {
      "cell_type": "code",
      "metadata": {
        "id": "07foPZ2OYSbN",
        "colab": {
          "base_uri": "https://localhost:8080/",
          "height": 354
        },
        "outputId": "e5c5934e-b3f6-4f7d-e705-bfdb2e04e584"
      },
      "source": [
        "# finding distribution of \"Height\" column\n",
        "print(sns.distplot(calories_dataset['Height']))"
      ],
      "execution_count": 47,
      "outputs": [
        {
          "output_type": "stream",
          "name": "stderr",
          "text": [
            "/usr/local/lib/python3.7/dist-packages/seaborn/distributions.py:2557: FutureWarning: `distplot` is a deprecated function and will be removed in a future version. Please adapt your code to use either `displot` (a figure-level function with similar flexibility) or `histplot` (an axes-level function for histograms).\n",
            "  warnings.warn(msg, FutureWarning)\n"
          ]
        },
        {
          "output_type": "stream",
          "name": "stdout",
          "text": [
            "AxesSubplot(0.125,0.125;0.775x0.755)\n"
          ]
        },
        {
          "output_type": "display_data",
          "data": {
            "image/png": "[encoded data removed]",
            "text/plain": [
              "<Figure size 432x288 with 1 Axes>"
            ]
          },
          "metadata": {}
        }
      ]
    },
    {
      "cell_type": "code",
      "metadata": {
        "id": "TchEOn0kYwJi",
        "colab": {
          "base_uri": "https://localhost:8080/",
          "height": 354
        },
        "outputId": "713b8557-c582-4cbe-b335-ea8b2e0ff28b"
      },
      "source": [
        "# finding distribution of \"weight\" column\n",
        "print(sns.distplot(calories_dataset['Weight']))"
      ],
      "execution_count": 48,
      "outputs": [
        {
          "output_type": "stream",
          "name": "stderr",
          "text": [
            "/usr/local/lib/python3.7/dist-packages/seaborn/distributions.py:2557: FutureWarning: `distplot` is a deprecated function and will be removed in a future version. Please adapt your code to use either `displot` (a figure-level function with similar flexibility) or `histplot` (an axes-level function for histograms).\n",
            "  warnings.warn(msg, FutureWarning)\n"
          ]
        },
        {
          "output_type": "stream",
          "name": "stdout",
          "text": [
            "AxesSubplot(0.125,0.125;0.775x0.755)\n"
          ]
        },
        {
          "output_type": "display_data",
          "data": {
            "image/png": "[encoded data removed]",
            "text/plain": [
              "<Figure size 432x288 with 1 Axes>"
            ]
          },
          "metadata": {}
        }
      ]
    },
    {
      "cell_type": "code",
      "metadata": {
        "id": "qoMKUEhrY_3C",
        "colab": {
          "base_uri": "https://localhost:8080/",
          "height": 354
        },
        "outputId": "0a8f6c00-090c-4f43-cf03-a9dadcb1f9f6"
      },
      "source": [
        "# finding distribution of \"Heart_Rate\" column\n",
        "print(sns.distplot(calories_dataset['Heart_Rate']))"
      ],
      "execution_count": 49,
      "outputs": [
        {
          "output_type": "stream",
          "name": "stderr",
          "text": [
            "/usr/local/lib/python3.7/dist-packages/seaborn/distributions.py:2557: FutureWarning: `distplot` is a deprecated function and will be removed in a future version. Please adapt your code to use either `displot` (a figure-level function with similar flexibility) or `histplot` (an axes-level function for histograms).\n",
            "  warnings.warn(msg, FutureWarning)\n"
          ]
        },
        {
          "output_type": "stream",
          "name": "stdout",
          "text": [
            "AxesSubplot(0.125,0.125;0.775x0.755)\n"
          ]
        },
        {
          "output_type": "display_data",
          "data": {
            "image/png": "[encoded data removed]",
            "text/plain": [
              "<Figure size 432x288 with 1 Axes>"
            ]
          },
          "metadata": {}
        }
      ]
    },
    {
      "cell_type": "markdown",
      "metadata": {
        "id": "hnPzPx3ZaNtW"
      },
      "source": [
        "# **Correlation has two type:**\n",
        "\n",
        "1.Positive\n",
        "\n",
        "2.Negative"
      ]
    },
    {
      "cell_type": "code",
      "metadata": {
        "id": "fOXJtFK9ZqFG"
      },
      "source": [
        "# Finding Correlation in the dataset\n",
        "\n",
        "correlation = calories_dataset.corr()"
      ],
      "execution_count": 50,
      "outputs": []
    },
    {
      "cell_type": "code",
      "metadata": {
        "id": "1QhVP8ajaov6",
        "colab": {
          "base_uri": "https://localhost:8080/",
          "height": 618
        },
        "outputId": "6fa064a7-6edb-4e06-eba5-0959091cbb29"
      },
      "source": [
        "#constructing a heatmap to understand the correlation\n",
        "plt.figure(figsize=(10,10))\n",
        "sns.heatmap(correlation,cbar=True,square=True,fmt='.1f',annot=True,\n",
        "            annot_kws={'size':8},cmap=\"Greens\")"
      ],
      "execution_count": 51,
      "outputs": [
        {
          "output_type": "execute_result",
          "data": {
            "text/plain": [
              "<matplotlib.axes._subplots.AxesSubplot at 0x7f01f6dd8250>"
            ]
          },
          "metadata": {},
          "execution_count": 51
        },
        {
          "output_type": "display_data",
          "data": {
            "image/png": "[encoded data removed]",
            "text/plain": [
              "<Figure size 720x720 with 2 Axes>"
            ]
          },
          "metadata": {}
        }
      ]
    },
    {
      "cell_type": "code",
      "metadata": {
        "id": "8or9Q53Nb40l"
      },
      "source": [
        "#Converting text to numerical values\n",
        "calories_dataset.replace({'Gender':{'male':0,'female':1}},inplace=True)\n"
      ],
      "execution_count": 52,
      "outputs": []
    },
    {
      "cell_type": "code",
      "metadata": {
        "id": "V7G01oZceEKu",
        "colab": {
          "base_uri": "https://localhost:8080/",
          "height": 202
        },
        "outputId": "bd7d5d1f-d65f-46b4-a051-f79f96e58284"
      },
      "source": [
        "calories_dataset.head()"
      ],
      "execution_count": 53,
      "outputs": [
        {
          "output_type": "execute_result",
          "data": {
            "text/html": [
              "<div>\n",
              "<style scoped>\n",
              "    .dataframe tbody tr th:only-of-type {\n",
              "        vertical-align: middle;\n",
              "    }\n",
              "\n",
              "    .dataframe tbody tr th {\n",
              "        vertical-align: top;\n",
              "    }\n",
              "\n",
              "    .dataframe thead th {\n",
              "        text-align: right;\n",
              "    }\n",
              "</style>\n",
              "<table border=\"1\" class=\"dataframe\">\n",
              "  <thead>\n",
              "    <tr style=\"text-align: right;\">\n",
              "      <th></th>\n",
              "      <th>User_ID</th>\n",
              "      <th>Gender</th>\n",
              "      <th>Age</th>\n",
              "      <th>Height</th>\n",
              "      <th>Weight</th>\n",
              "      <th>Duration</th>\n",
              "      <th>Heart_Rate</th>\n",
              "      <th>Body_Temp</th>\n",
              "      <th>Calories</th>\n",
              "    </tr>\n",
              "  </thead>\n",
              "  <tbody>\n",
              "    <tr>\n",
              "      <th>0</th>\n",
              "      <td>14733363</td>\n",
              "      <td>0</td>\n",
              "      <td>68</td>\n",
              "      <td>190.0</td>\n",
              "      <td>94.0</td>\n",
              "      <td>29.0</td>\n",
              "      <td>105.0</td>\n",
              "      <td>40.8</td>\n",
              "      <td>231.0</td>\n",
              "    </tr>\n",
              "    <tr>\n",
              "      <th>1</th>\n",
              "      <td>14861698</td>\n",
              "      <td>1</td>\n",
              "      <td>20</td>\n",
              "      <td>166.0</td>\n",
              "      <td>60.0</td>\n",
              "      <td>14.0</td>\n",
              "      <td>94.0</td>\n",
              "      <td>40.3</td>\n",
              "      <td>66.0</td>\n",
              "    </tr>\n",
              "    <tr>\n",
              "      <th>2</th>\n",
              "      <td>11179863</td>\n",
              "      <td>0</td>\n",
              "      <td>69</td>\n",
              "      <td>179.0</td>\n",
              "      <td>79.0</td>\n",
              "      <td>5.0</td>\n",
              "      <td>88.0</td>\n",
              "      <td>38.7</td>\n",
              "      <td>26.0</td>\n",
              "    </tr>\n",
              "    <tr>\n",
              "      <th>3</th>\n",
              "      <td>16180408</td>\n",
              "      <td>1</td>\n",
              "      <td>34</td>\n",
              "      <td>179.0</td>\n",
              "      <td>71.0</td>\n",
              "      <td>13.0</td>\n",
              "      <td>100.0</td>\n",
              "      <td>40.5</td>\n",
              "      <td>71.0</td>\n",
              "    </tr>\n",
              "    <tr>\n",
              "      <th>4</th>\n",
              "      <td>17771927</td>\n",
              "      <td>1</td>\n",
              "      <td>27</td>\n",
              "      <td>154.0</td>\n",
              "      <td>58.0</td>\n",
              "      <td>10.0</td>\n",
              "      <td>81.0</td>\n",
              "      <td>39.8</td>\n",
              "      <td>35.0</td>\n",
              "    </tr>\n",
              "  </tbody>\n",
              "</table>\n",
              "</div>"
            ],
            "text/plain": [
              "    User_ID  Gender  Age  Height  ...  Duration  Heart_Rate  Body_Temp  Calories\n",
              "0  14733363       0   68   190.0  ...      29.0       105.0       40.8     231.0\n",
              "1  14861698       1   20   166.0  ...      14.0        94.0       40.3      66.0\n",
              "2  11179863       0   69   179.0  ...       5.0        88.0       38.7      26.0\n",
              "3  16180408       1   34   179.0  ...      13.0       100.0       40.5      71.0\n",
              "4  17771927       1   27   154.0  ...      10.0        81.0       39.8      35.0\n",
              "\n",
              "[5 rows x 9 columns]"
            ]
          },
          "metadata": {},
          "execution_count": 53
        }
      ]
    },
    {
      "cell_type": "code",
      "metadata": {
        "id": "D_95p4-qelUM",
        "colab": {
          "base_uri": "https://localhost:8080/"
        },
        "outputId": "fa66c333-8c37-4871-ad6c-91c6afd29a60"
      },
      "source": [
        "#Separating feature and Target\n",
        "\n",
        "x=calories_dataset.drop(columns=['User_ID','Calories'],axis=1)\n",
        "y=calories_dataset['Calories']\n",
        "print(x,y)"
      ],
      "execution_count": 54,
      "outputs": [
        {
          "output_type": "stream",
          "name": "stdout",
          "text": [
            "       Gender  Age  Height  Weight  Duration  Heart_Rate  Body_Temp\n",
            "0           0   68   190.0    94.0      29.0       105.0       40.8\n",
            "1           1   20   166.0    60.0      14.0        94.0       40.3\n",
            "2           0   69   179.0    79.0       5.0        88.0       38.7\n",
            "3           1   34   179.0    71.0      13.0       100.0       40.5\n",
            "4           1   27   154.0    58.0      10.0        81.0       39.8\n",
            "...       ...  ...     ...     ...       ...         ...        ...\n",
            "14995       1   20   193.0    86.0      11.0        92.0       40.4\n",
            "14996       1   27   165.0    65.0       6.0        85.0       39.2\n",
            "14997       1   43   159.0    58.0      16.0        90.0       40.1\n",
            "14998       0   78   193.0    97.0       2.0        84.0       38.3\n",
            "14999       0   63   173.0    79.0      18.0        92.0       40.5\n",
            "\n",
            "[15000 rows x 7 columns] 0        231.0\n",
            "1         66.0\n",
            "2         26.0\n",
            "3         71.0\n",
            "4         35.0\n",
            "         ...  \n",
            "14995     45.0\n",
            "14996     23.0\n",
            "14997     75.0\n",
            "14998     11.0\n",
            "14999     98.0\n",
            "Name: Calories, Length: 15000, dtype: float64\n"
          ]
        }
      ]
    },
    {
      "cell_type": "code",
      "metadata": {
        "id": "ki5RFrwWfr0k",
        "colab": {
          "base_uri": "https://localhost:8080/"
        },
        "outputId": "fb8c5d53-3131-470e-c1dc-af133fe6720b"
      },
      "source": [
        "#spliting test and training data\n",
        "x_train,x_test,y_train,y_test = train_test_split(x.values,y.values,test_size=0.2,random_state=2)\n",
        "\n",
        "print(x.shape,x_train.shape,x_test.shape)"
      ],
      "execution_count": 65,
      "outputs": [
        {
          "output_type": "stream",
          "name": "stdout",
          "text": [
            "(15000, 7) (12000, 7) (3000, 7)\n"
          ]
        }
      ]
    },
    {
      "cell_type": "code",
      "metadata": {
        "id": "4swiZ2RXgybi"
      },
      "source": [
        "# Model(XGBoost Regrassor) training\n",
        "#loading model\n",
        "model=XGBRegressor()"
      ],
      "execution_count": 56,
      "outputs": []
    },
    {
      "cell_type": "code",
      "metadata": {
        "id": "I23kB6i4h9bx",
        "colab": {
          "base_uri": "https://localhost:8080/"
        },
        "outputId": "fe7cd157-ff49-4343-c175-0f3f62211b4a"
      },
      "source": [
        "#training the model\n",
        "model.fit(x_train,y_train)"
      ],
      "execution_count": 75,
      "outputs": [
        {
          "output_type": "stream",
          "name": "stdout",
          "text": [
            "[15:16:03] WARNING: /workspace/src/objective/regression_obj.cu:152: reg:linear is now deprecated in favor of reg:squarederror.\n"
          ]
        },
        {
          "output_type": "execute_result",
          "data": {
            "text/plain": [
              "XGBRegressor(base_score=0.5, booster='gbtree', colsample_bylevel=1,\n",
              "             colsample_bynode=1, colsample_bytree=1, gamma=0,\n",
              "             importance_type='gain', learning_rate=0.1, max_delta_step=0,\n",
              "             max_depth=3, min_child_weight=1, missing=None, n_estimators=100,\n",
              "             n_jobs=1, nthread=None, objective='reg:linear', random_state=0,\n",
              "             reg_alpha=0, reg_lambda=1, scale_pos_weight=1, seed=None,\n",
              "             silent=None, subsample=1, verbosity=1)"
            ]
          },
          "metadata": {},
          "execution_count": 75
        }
      ]
    },
    {
      "cell_type": "code",
      "metadata": {
        "colab": {
          "base_uri": "https://localhost:8080/"
        },
        "id": "z3KX5Z0_OieZ",
        "outputId": "3f8bb32d-7b24-4c85-9d60-30115a8127e7"
      },
      "source": [
        "x_train_prediction=model.predict(x_train)\n",
        "\n",
        "print(x_train_prediction)"
      ],
      "execution_count": 76,
      "outputs": [
        {
          "output_type": "stream",
          "name": "stdout",
          "text": [
            "[  9.806499  35.532837  28.32333  ... 102.74845  179.59464   44.3327  ]\n"
          ]
        }
      ]
    },
    {
      "cell_type": "code",
      "metadata": {
        "id": "0CcCUc5IiOfQ",
        "colab": {
          "base_uri": "https://localhost:8080/"
        },
        "outputId": "f9e5904e-98c2-421d-e228-5f53617ed07d"
      },
      "source": [
        "# Evaluation---->part\n",
        "#Prediction\n",
        "\n",
        "test_data_prediction=model.predict(x_test)\n",
        "print(test_data_prediction)\n"
      ],
      "execution_count": 58,
      "outputs": [
        {
          "output_type": "stream",
          "name": "stdout",
          "text": [
            "[129.06204  223.79721   39.181965 ... 145.59767   22.53474   92.29064 ]\n"
          ]
        }
      ]
    },
    {
      "cell_type": "markdown",
      "metadata": {
        "id": "KbjdIkkPi9UL"
      },
      "source": [
        "# Mean Absolute Error"
      ]
    },
    {
      "cell_type": "code",
      "metadata": {
        "id": "963dBfCTjC-y",
        "colab": {
          "base_uri": "https://localhost:8080/"
        },
        "outputId": "36c8bedb-95f7-4c4a-c7d3-79f004d71ad8"
      },
      "source": [
        "m=metrics.mean_absolute_error(y_test,test_data_prediction)\n",
        "\n",
        "print(\"Mean Absolute Error : \",m)"
      ],
      "execution_count": 59,
      "outputs": [
        {
          "output_type": "stream",
          "name": "stdout",
          "text": [
            "Mean Absolute Error :  2.7159012502233186\n"
          ]
        }
      ]
    },
    {
      "cell_type": "code",
      "metadata": {
        "colab": {
          "base_uri": "https://localhost:8080/"
        },
        "id": "uc_VVptGKd85",
        "outputId": "370fb93b-c545-4b9f-a72f-df11bcf9ac46"
      },
      "source": [
        "# R squared value\n",
        "r2_test = metrics.r2_score(y_test,test_data_prediction)\n",
        "print('R squared value : ',r2_test)"
      ],
      "execution_count": 60,
      "outputs": [
        {
          "output_type": "stream",
          "name": "stdout",
          "text": [
            "R squared value :  0.9963065655529431\n"
          ]
        }
      ]
    },
    {
      "cell_type": "code",
      "metadata": {
        "id": "KiT5TatMjlhs"
      },
      "source": [
        "input_data=[1,20,166.0,60.0,14.0,94.0,40.3]\n",
        "input_data_as_numpy_array = np.asarray(input_data)"
      ],
      "execution_count": 72,
      "outputs": []
    },
    {
      "cell_type": "code",
      "metadata": {
        "id": "_AqJik6tn4PS",
        "colab": {
          "base_uri": "https://localhost:8080/"
        },
        "outputId": "ba8fcbba-4698-4669-9383-1393a4488961"
      },
      "source": [
        "#reshape the array\n",
        "input_data_reshaped = input_data_as_numpy_array.reshape(1,-1)\n",
        "prediction =model.predict(input_data_reshaped)\n",
        "print(' Total calories Burnt : ',prediction[0])\n"
      ],
      "execution_count": 78,
      "outputs": [
        {
          "output_type": "stream",
          "name": "stdout",
          "text": [
            " Total calories Burnt :  64.3578\n"
          ]
        }
      ]
    }
  ]
}