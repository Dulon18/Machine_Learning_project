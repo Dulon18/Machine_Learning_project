{
  "nbformat": 4,
  "nbformat_minor": 0,
  "metadata": {
    "colab": {
      "name": "Stock_Market_Prediction.ipynb",
      "provenance": [],
      "collapsed_sections": [],
      "authorship_tag": "ABX9TyO4AKbU0WYTcZQJHZA6pMrv",
      "include_colab_link": true
    },
    "kernelspec": {
      "name": "python3",
      "display_name": "Python 3"
    },
    "language_info": {
      "name": "python"
    }
  },
  "cells": [
    {
      "cell_type": "markdown",
      "metadata": {
        "id": "view-in-github",
        "colab_type": "text"
      },
      "source": [
        "<a href=\"https://colab.research.google.com/github/Dulon18/Machine_Learning_project/blob/main/Stock_Market_Prediction.ipynb\" target=\"_parent\"><img src=\"https://colab.research.google.com/assets/colab-badge.svg\" alt=\"Open In Colab\"/></a>"
      ]
    },
    {
      "cell_type": "code",
      "metadata": {
        "id": "ydH6Bipusjuu"
      },
      "source": [
        "import pandas as pd\n",
        "import numpy as np\n",
        "import matplotlib.pyplot as plt\n",
        "import seaborn as sns\n",
        "from sklearn import metrics\n",
        "from sklearn.model_selection import train_test_split\n",
        "from sklearn.ensemble import RandomForestRegressor\n",
        "from sklearn.metrics import mean_squared_error\n",
        "from sklearn.metrics import accuracy_score\n"
      ],
      "execution_count": 152,
      "outputs": []
    },
    {
      "cell_type": "code",
      "metadata": {
        "id": "VaivE0vttHhO"
      },
      "source": [
        "%matplotlib inline\n",
        "import warnings\n",
        "warnings.simplefilter(\"ignore\")"
      ],
      "execution_count": 151,
      "outputs": []
    },
    {
      "cell_type": "code",
      "metadata": {
        "id": "5EnnYZRntPs1"
      },
      "source": [
        "dataset = pd.read_csv(\"/content/upload_DJIA_table.csv\")"
      ],
      "execution_count": 153,
      "outputs": []
    },
    {
      "cell_type": "code",
      "metadata": {
        "colab": {
          "base_uri": "https://localhost:8080/",
          "height": 204
        },
        "id": "_XQOjh2TtlD9",
        "outputId": "c2cec8cb-0a69-408f-a404-2e51fc0bc278"
      },
      "source": [
        "dataset.head()"
      ],
      "execution_count": 154,
      "outputs": [
        {
          "output_type": "execute_result",
          "data": {
            "text/html": [
              "<div>\n",
              "<style scoped>\n",
              "    .dataframe tbody tr th:only-of-type {\n",
              "        vertical-align: middle;\n",
              "    }\n",
              "\n",
              "    .dataframe tbody tr th {\n",
              "        vertical-align: top;\n",
              "    }\n",
              "\n",
              "    .dataframe thead th {\n",
              "        text-align: right;\n",
              "    }\n",
              "</style>\n",
              "<table border=\"1\" class=\"dataframe\">\n",
              "  <thead>\n",
              "    <tr style=\"text-align: right;\">\n",
              "      <th></th>\n",
              "      <th>Date</th>\n",
              "      <th>Open</th>\n",
              "      <th>High</th>\n",
              "      <th>Low</th>\n",
              "      <th>Close</th>\n",
              "      <th>Volume</th>\n",
              "      <th>Adj Close</th>\n",
              "    </tr>\n",
              "  </thead>\n",
              "  <tbody>\n",
              "    <tr>\n",
              "      <th>0</th>\n",
              "      <td>2016-07-01</td>\n",
              "      <td>17924.240234</td>\n",
              "      <td>18002.380859</td>\n",
              "      <td>17916.910156</td>\n",
              "      <td>17949.369141</td>\n",
              "      <td>82160000</td>\n",
              "      <td>17949.369141</td>\n",
              "    </tr>\n",
              "    <tr>\n",
              "      <th>1</th>\n",
              "      <td>2016-06-30</td>\n",
              "      <td>17712.759766</td>\n",
              "      <td>17930.609375</td>\n",
              "      <td>17711.800781</td>\n",
              "      <td>17929.990234</td>\n",
              "      <td>133030000</td>\n",
              "      <td>17929.990234</td>\n",
              "    </tr>\n",
              "    <tr>\n",
              "      <th>2</th>\n",
              "      <td>2016-06-29</td>\n",
              "      <td>17456.019531</td>\n",
              "      <td>17704.509766</td>\n",
              "      <td>17456.019531</td>\n",
              "      <td>17694.679688</td>\n",
              "      <td>106380000</td>\n",
              "      <td>17694.679688</td>\n",
              "    </tr>\n",
              "    <tr>\n",
              "      <th>3</th>\n",
              "      <td>2016-06-28</td>\n",
              "      <td>17190.509766</td>\n",
              "      <td>17409.720703</td>\n",
              "      <td>17190.509766</td>\n",
              "      <td>17409.720703</td>\n",
              "      <td>112190000</td>\n",
              "      <td>17409.720703</td>\n",
              "    </tr>\n",
              "    <tr>\n",
              "      <th>4</th>\n",
              "      <td>2016-06-27</td>\n",
              "      <td>17355.210938</td>\n",
              "      <td>17355.210938</td>\n",
              "      <td>17063.080078</td>\n",
              "      <td>17140.240234</td>\n",
              "      <td>138740000</td>\n",
              "      <td>17140.240234</td>\n",
              "    </tr>\n",
              "  </tbody>\n",
              "</table>\n",
              "</div>"
            ],
            "text/plain": [
              "         Date          Open  ...     Volume     Adj Close\n",
              "0  2016-07-01  17924.240234  ...   82160000  17949.369141\n",
              "1  2016-06-30  17712.759766  ...  133030000  17929.990234\n",
              "2  2016-06-29  17456.019531  ...  106380000  17694.679688\n",
              "3  2016-06-28  17190.509766  ...  112190000  17409.720703\n",
              "4  2016-06-27  17355.210938  ...  138740000  17140.240234\n",
              "\n",
              "[5 rows x 7 columns]"
            ]
          },
          "metadata": {},
          "execution_count": 154
        }
      ]
    },
    {
      "cell_type": "code",
      "metadata": {
        "colab": {
          "base_uri": "https://localhost:8080/"
        },
        "id": "Utyk4L7VthGF",
        "outputId": "145549b9-d33e-4e93-ec3d-cd69b2b020b1"
      },
      "source": [
        "dataset.shape"
      ],
      "execution_count": 155,
      "outputs": [
        {
          "output_type": "execute_result",
          "data": {
            "text/plain": [
              "(1989, 7)"
            ]
          },
          "metadata": {},
          "execution_count": 155
        }
      ]
    },
    {
      "cell_type": "code",
      "metadata": {
        "colab": {
          "base_uri": "https://localhost:8080/"
        },
        "id": "iN05Swfptpzc",
        "outputId": "787b91bd-79a9-4502-b051-3b7d8f0ae032"
      },
      "source": [
        "dataset.columns"
      ],
      "execution_count": 156,
      "outputs": [
        {
          "output_type": "execute_result",
          "data": {
            "text/plain": [
              "Index(['Date', 'Open', 'High', 'Low', 'Close', 'Volume', 'Adj Close'], dtype='object')"
            ]
          },
          "metadata": {},
          "execution_count": 156
        }
      ]
    },
    {
      "cell_type": "code",
      "metadata": {
        "colab": {
          "base_uri": "https://localhost:8080/"
        },
        "id": "CqieVZ_utySd",
        "outputId": "3487e222-997c-4a36-fb40-467a22fa296d"
      },
      "source": [
        "dataset.info()"
      ],
      "execution_count": 157,
      "outputs": [
        {
          "output_type": "stream",
          "name": "stdout",
          "text": [
            "<class 'pandas.core.frame.DataFrame'>\n",
            "RangeIndex: 1989 entries, 0 to 1988\n",
            "Data columns (total 7 columns):\n",
            " #   Column     Non-Null Count  Dtype  \n",
            "---  ------     --------------  -----  \n",
            " 0   Date       1989 non-null   object \n",
            " 1   Open       1989 non-null   float64\n",
            " 2   High       1989 non-null   float64\n",
            " 3   Low        1989 non-null   float64\n",
            " 4   Close      1989 non-null   float64\n",
            " 5   Volume     1989 non-null   int64  \n",
            " 6   Adj Close  1989 non-null   float64\n",
            "dtypes: float64(5), int64(1), object(1)\n",
            "memory usage: 108.9+ KB\n"
          ]
        }
      ]
    },
    {
      "cell_type": "code",
      "metadata": {
        "colab": {
          "base_uri": "https://localhost:8080/",
          "height": 297
        },
        "id": "GYwcQMsrt8Ae",
        "outputId": "9a448368-89c8-46d6-aad7-3f85d7fbb476"
      },
      "source": [
        "#Statistical information\n",
        "dataset.describe()"
      ],
      "execution_count": 158,
      "outputs": [
        {
          "output_type": "execute_result",
          "data": {
            "text/html": [
              "<div>\n",
              "<style scoped>\n",
              "    .dataframe tbody tr th:only-of-type {\n",
              "        vertical-align: middle;\n",
              "    }\n",
              "\n",
              "    .dataframe tbody tr th {\n",
              "        vertical-align: top;\n",
              "    }\n",
              "\n",
              "    .dataframe thead th {\n",
              "        text-align: right;\n",
              "    }\n",
              "</style>\n",
              "<table border=\"1\" class=\"dataframe\">\n",
              "  <thead>\n",
              "    <tr style=\"text-align: right;\">\n",
              "      <th></th>\n",
              "      <th>Open</th>\n",
              "      <th>High</th>\n",
              "      <th>Low</th>\n",
              "      <th>Close</th>\n",
              "      <th>Volume</th>\n",
              "      <th>Adj Close</th>\n",
              "    </tr>\n",
              "  </thead>\n",
              "  <tbody>\n",
              "    <tr>\n",
              "      <th>count</th>\n",
              "      <td>1989.000000</td>\n",
              "      <td>1989.000000</td>\n",
              "      <td>1989.000000</td>\n",
              "      <td>1989.000000</td>\n",
              "      <td>1.989000e+03</td>\n",
              "      <td>1989.000000</td>\n",
              "    </tr>\n",
              "    <tr>\n",
              "      <th>mean</th>\n",
              "      <td>13459.116048</td>\n",
              "      <td>13541.303173</td>\n",
              "      <td>13372.931728</td>\n",
              "      <td>13463.032255</td>\n",
              "      <td>1.628110e+08</td>\n",
              "      <td>13463.032255</td>\n",
              "    </tr>\n",
              "    <tr>\n",
              "      <th>std</th>\n",
              "      <td>3143.281634</td>\n",
              "      <td>3136.271725</td>\n",
              "      <td>3150.420934</td>\n",
              "      <td>3144.006996</td>\n",
              "      <td>9.392343e+07</td>\n",
              "      <td>3144.006996</td>\n",
              "    </tr>\n",
              "    <tr>\n",
              "      <th>min</th>\n",
              "      <td>6547.009766</td>\n",
              "      <td>6709.609863</td>\n",
              "      <td>6469.950195</td>\n",
              "      <td>6547.049805</td>\n",
              "      <td>8.410000e+06</td>\n",
              "      <td>6547.049805</td>\n",
              "    </tr>\n",
              "    <tr>\n",
              "      <th>25%</th>\n",
              "      <td>10907.339844</td>\n",
              "      <td>11000.980469</td>\n",
              "      <td>10824.759766</td>\n",
              "      <td>10913.379883</td>\n",
              "      <td>1.000000e+08</td>\n",
              "      <td>10913.379883</td>\n",
              "    </tr>\n",
              "    <tr>\n",
              "      <th>50%</th>\n",
              "      <td>13022.049805</td>\n",
              "      <td>13088.110352</td>\n",
              "      <td>12953.129883</td>\n",
              "      <td>13025.580078</td>\n",
              "      <td>1.351700e+08</td>\n",
              "      <td>13025.580078</td>\n",
              "    </tr>\n",
              "    <tr>\n",
              "      <th>75%</th>\n",
              "      <td>16477.699219</td>\n",
              "      <td>16550.070312</td>\n",
              "      <td>16392.769531</td>\n",
              "      <td>16478.410156</td>\n",
              "      <td>1.926000e+08</td>\n",
              "      <td>16478.410156</td>\n",
              "    </tr>\n",
              "    <tr>\n",
              "      <th>max</th>\n",
              "      <td>18315.060547</td>\n",
              "      <td>18351.359375</td>\n",
              "      <td>18272.560547</td>\n",
              "      <td>18312.390625</td>\n",
              "      <td>6.749200e+08</td>\n",
              "      <td>18312.390625</td>\n",
              "    </tr>\n",
              "  </tbody>\n",
              "</table>\n",
              "</div>"
            ],
            "text/plain": [
              "               Open          High  ...        Volume     Adj Close\n",
              "count   1989.000000   1989.000000  ...  1.989000e+03   1989.000000\n",
              "mean   13459.116048  13541.303173  ...  1.628110e+08  13463.032255\n",
              "std     3143.281634   3136.271725  ...  9.392343e+07   3144.006996\n",
              "min     6547.009766   6709.609863  ...  8.410000e+06   6547.049805\n",
              "25%    10907.339844  11000.980469  ...  1.000000e+08  10913.379883\n",
              "50%    13022.049805  13088.110352  ...  1.351700e+08  13025.580078\n",
              "75%    16477.699219  16550.070312  ...  1.926000e+08  16478.410156\n",
              "max    18315.060547  18351.359375  ...  6.749200e+08  18312.390625\n",
              "\n",
              "[8 rows x 6 columns]"
            ]
          },
          "metadata": {},
          "execution_count": 158
        }
      ]
    },
    {
      "cell_type": "code",
      "metadata": {
        "colab": {
          "base_uri": "https://localhost:8080/"
        },
        "id": "4Dpjn8z7tvgU",
        "outputId": "8bebdc84-72e4-43a9-8fcd-5a07225a1c4e"
      },
      "source": [
        "#cheaking missing value\n",
        "\n",
        "dataset.isnull().sum()"
      ],
      "execution_count": 159,
      "outputs": [
        {
          "output_type": "execute_result",
          "data": {
            "text/plain": [
              "Date         0\n",
              "Open         0\n",
              "High         0\n",
              "Low          0\n",
              "Close        0\n",
              "Volume       0\n",
              "Adj Close    0\n",
              "dtype: int64"
            ]
          },
          "metadata": {},
          "execution_count": 159
        }
      ]
    },
    {
      "cell_type": "code",
      "metadata": {
        "colab": {
          "base_uri": "https://localhost:8080/",
          "height": 302
        },
        "id": "-xu4Ho9HuTY-",
        "outputId": "b35fb1e3-48da-4bfa-f274-06952e587ccf"
      },
      "source": [
        "# Data Visualization\n",
        "\n",
        "sns.set()\n",
        "sns.distplot(dataset['Open'])\n"
      ],
      "execution_count": 160,
      "outputs": [
        {
          "output_type": "execute_result",
          "data": {
            "text/plain": [
              "<matplotlib.axes._subplots.AxesSubplot at 0x7fb8d3703390>"
            ]
          },
          "metadata": {},
          "execution_count": 160
        },
        {
          "output_type": "display_data",
          "data": {
            "image/png": "[encoded data removed]",
            "text/plain": [
              "<Figure size 432x288 with 1 Axes>"
            ]
          },
          "metadata": {}
        }
      ]
    },
    {
      "cell_type": "code",
      "metadata": {
        "colab": {
          "base_uri": "https://localhost:8080/",
          "height": 302
        },
        "id": "wtdkegAvvrWt",
        "outputId": "03b5c7f6-e78b-4592-ca6e-1591b20ca0b6"
      },
      "source": [
        "sns.set()\n",
        "sns.distplot(dataset['High'])"
      ],
      "execution_count": 161,
      "outputs": [
        {
          "output_type": "execute_result",
          "data": {
            "text/plain": [
              "<matplotlib.axes._subplots.AxesSubplot at 0x7fb8d36968d0>"
            ]
          },
          "metadata": {},
          "execution_count": 161
        },
        {
          "output_type": "display_data",
          "data": {
            "image/png": "[encoded data removed]",
            "text/plain": [
              "<Figure size 432x288 with 1 Axes>"
            ]
          },
          "metadata": {}
        }
      ]
    },
    {
      "cell_type": "code",
      "metadata": {
        "colab": {
          "base_uri": "https://localhost:8080/",
          "height": 302
        },
        "id": "ho82Js3ivu5E",
        "outputId": "accc1c93-9976-486c-ac31-a167810513ba"
      },
      "source": [
        "sns.set()\n",
        "sns.distplot(dataset['Low'])"
      ],
      "execution_count": 162,
      "outputs": [
        {
          "output_type": "execute_result",
          "data": {
            "text/plain": [
              "<matplotlib.axes._subplots.AxesSubplot at 0x7fb8d35bd8d0>"
            ]
          },
          "metadata": {},
          "execution_count": 162
        },
        {
          "output_type": "display_data",
          "data": {
            "image/png": "[encoded data removed]",
            "text/plain": [
              "<Figure size 432x288 with 1 Axes>"
            ]
          },
          "metadata": {}
        }
      ]
    },
    {
      "cell_type": "code",
      "metadata": {
        "colab": {
          "base_uri": "https://localhost:8080/",
          "height": 313
        },
        "id": "qJzfSr17vvld",
        "outputId": "ba6035ad-9af5-4d10-a308-6f52ff88079e"
      },
      "source": [
        "sns.set()\n",
        "sns.distplot(dataset['Volume'])"
      ],
      "execution_count": 163,
      "outputs": [
        {
          "output_type": "execute_result",
          "data": {
            "text/plain": [
              "<matplotlib.axes._subplots.AxesSubplot at 0x7fb8d3544250>"
            ]
          },
          "metadata": {},
          "execution_count": 163
        },
        {
          "output_type": "display_data",
          "data": {
            "image/png": "[encoded data removed]",
            "text/plain": [
              "<Figure size 432x288 with 1 Axes>"
            ]
          },
          "metadata": {}
        }
      ]
    },
    {
      "cell_type": "code",
      "metadata": {
        "colab": {
          "base_uri": "https://localhost:8080/",
          "height": 302
        },
        "id": "x8eu6YmuwjFT",
        "outputId": "fc29572c-394f-4195-aee1-aa9e3bd2971e"
      },
      "source": [
        "sns.set()\n",
        "sns.distplot(dataset['Adj Close'])"
      ],
      "execution_count": 164,
      "outputs": [
        {
          "output_type": "execute_result",
          "data": {
            "text/plain": [
              "<matplotlib.axes._subplots.AxesSubplot at 0x7fb8d345b690>"
            ]
          },
          "metadata": {},
          "execution_count": 164
        },
        {
          "output_type": "display_data",
          "data": {
            "image/png": "[encoded data removed]",
            "text/plain": [
              "<Figure size 432x288 with 1 Axes>"
            ]
          },
          "metadata": {}
        }
      ]
    },
    {
      "cell_type": "code",
      "metadata": {
        "id": "7r7rIyaGwQcs"
      },
      "source": [
        "# Finding Correlation in the dataset\n",
        "\n",
        "correlation = dataset.corr()"
      ],
      "execution_count": 165,
      "outputs": []
    },
    {
      "cell_type": "code",
      "metadata": {
        "colab": {
          "base_uri": "https://localhost:8080/",
          "height": 409
        },
        "id": "CIMzbq4YwGNd",
        "outputId": "cd4fd935-8b87-47c3-a598-896d60c98b71"
      },
      "source": [
        "plt.figure(figsize=(6,6))\n",
        "sns.heatmap(correlation,cbar=True,square=True,fmt='.1f',annot=True,\n",
        "            annot_kws={'size':6},cmap=\"Greens\")"
      ],
      "execution_count": 166,
      "outputs": [
        {
          "output_type": "execute_result",
          "data": {
            "text/plain": [
              "<matplotlib.axes._subplots.AxesSubplot at 0x7fb8d33eec90>"
            ]
          },
          "metadata": {},
          "execution_count": 166
        },
        {
          "output_type": "display_data",
          "data": {
            "image/png": "[encoded data removed]",
            "text/plain": [
              "<Figure size 432x432 with 2 Axes>"
            ]
          },
          "metadata": {}
        }
      ]
    },
    {
      "cell_type": "markdown",
      "metadata": {
        "id": "DpGq545-yG37"
      },
      "source": [
        "**#Separating feature and Target**"
      ]
    },
    {
      "cell_type": "code",
      "metadata": {
        "id": "-HOYTrPHxoXm"
      },
      "source": [
        "x = dataset.drop(columns=['Date','Adj Close'],axis=1)\n",
        "y = dataset['Adj Close']\n"
      ],
      "execution_count": 167,
      "outputs": []
    },
    {
      "cell_type": "code",
      "metadata": {
        "colab": {
          "base_uri": "https://localhost:8080/",
          "height": 419
        },
        "id": "guBP7n1dx6cY",
        "outputId": "80e5b19c-aa38-4c51-f051-5089004e6cab"
      },
      "source": [
        "x"
      ],
      "execution_count": 168,
      "outputs": [
        {
          "output_type": "execute_result",
          "data": {
            "text/html": [
              "<div>\n",
              "<style scoped>\n",
              "    .dataframe tbody tr th:only-of-type {\n",
              "        vertical-align: middle;\n",
              "    }\n",
              "\n",
              "    .dataframe tbody tr th {\n",
              "        vertical-align: top;\n",
              "    }\n",
              "\n",
              "    .dataframe thead th {\n",
              "        text-align: right;\n",
              "    }\n",
              "</style>\n",
              "<table border=\"1\" class=\"dataframe\">\n",
              "  <thead>\n",
              "    <tr style=\"text-align: right;\">\n",
              "      <th></th>\n",
              "      <th>Open</th>\n",
              "      <th>High</th>\n",
              "      <th>Low</th>\n",
              "      <th>Close</th>\n",
              "      <th>Volume</th>\n",
              "    </tr>\n",
              "  </thead>\n",
              "  <tbody>\n",
              "    <tr>\n",
              "      <th>0</th>\n",
              "      <td>17924.240234</td>\n",
              "      <td>18002.380859</td>\n",
              "      <td>17916.910156</td>\n",
              "      <td>17949.369141</td>\n",
              "      <td>82160000</td>\n",
              "    </tr>\n",
              "    <tr>\n",
              "      <th>1</th>\n",
              "      <td>17712.759766</td>\n",
              "      <td>17930.609375</td>\n",
              "      <td>17711.800781</td>\n",
              "      <td>17929.990234</td>\n",
              "      <td>133030000</td>\n",
              "    </tr>\n",
              "    <tr>\n",
              "      <th>2</th>\n",
              "      <td>17456.019531</td>\n",
              "      <td>17704.509766</td>\n",
              "      <td>17456.019531</td>\n",
              "      <td>17694.679688</td>\n",
              "      <td>106380000</td>\n",
              "    </tr>\n",
              "    <tr>\n",
              "      <th>3</th>\n",
              "      <td>17190.509766</td>\n",
              "      <td>17409.720703</td>\n",
              "      <td>17190.509766</td>\n",
              "      <td>17409.720703</td>\n",
              "      <td>112190000</td>\n",
              "    </tr>\n",
              "    <tr>\n",
              "      <th>4</th>\n",
              "      <td>17355.210938</td>\n",
              "      <td>17355.210938</td>\n",
              "      <td>17063.080078</td>\n",
              "      <td>17140.240234</td>\n",
              "      <td>138740000</td>\n",
              "    </tr>\n",
              "    <tr>\n",
              "      <th>...</th>\n",
              "      <td>...</td>\n",
              "      <td>...</td>\n",
              "      <td>...</td>\n",
              "      <td>...</td>\n",
              "      <td>...</td>\n",
              "    </tr>\n",
              "    <tr>\n",
              "      <th>1984</th>\n",
              "      <td>11532.070312</td>\n",
              "      <td>11718.280273</td>\n",
              "      <td>11450.889648</td>\n",
              "      <td>11615.929688</td>\n",
              "      <td>159790000</td>\n",
              "    </tr>\n",
              "    <tr>\n",
              "      <th>1985</th>\n",
              "      <td>11632.809570</td>\n",
              "      <td>11633.780273</td>\n",
              "      <td>11453.339844</td>\n",
              "      <td>11532.959961</td>\n",
              "      <td>182550000</td>\n",
              "    </tr>\n",
              "    <tr>\n",
              "      <th>1986</th>\n",
              "      <td>11781.700195</td>\n",
              "      <td>11782.349609</td>\n",
              "      <td>11601.519531</td>\n",
              "      <td>11642.469727</td>\n",
              "      <td>173590000</td>\n",
              "    </tr>\n",
              "    <tr>\n",
              "      <th>1987</th>\n",
              "      <td>11729.669922</td>\n",
              "      <td>11867.110352</td>\n",
              "      <td>11675.530273</td>\n",
              "      <td>11782.349609</td>\n",
              "      <td>183190000</td>\n",
              "    </tr>\n",
              "    <tr>\n",
              "      <th>1988</th>\n",
              "      <td>11432.089844</td>\n",
              "      <td>11759.959961</td>\n",
              "      <td>11388.040039</td>\n",
              "      <td>11734.320312</td>\n",
              "      <td>212830000</td>\n",
              "    </tr>\n",
              "  </tbody>\n",
              "</table>\n",
              "<p>1989 rows × 5 columns</p>\n",
              "</div>"
            ],
            "text/plain": [
              "              Open          High           Low         Close     Volume\n",
              "0     17924.240234  18002.380859  17916.910156  17949.369141   82160000\n",
              "1     17712.759766  17930.609375  17711.800781  17929.990234  133030000\n",
              "2     17456.019531  17704.509766  17456.019531  17694.679688  106380000\n",
              "3     17190.509766  17409.720703  17190.509766  17409.720703  112190000\n",
              "4     17355.210938  17355.210938  17063.080078  17140.240234  138740000\n",
              "...            ...           ...           ...           ...        ...\n",
              "1984  11532.070312  11718.280273  11450.889648  11615.929688  159790000\n",
              "1985  11632.809570  11633.780273  11453.339844  11532.959961  182550000\n",
              "1986  11781.700195  11782.349609  11601.519531  11642.469727  173590000\n",
              "1987  11729.669922  11867.110352  11675.530273  11782.349609  183190000\n",
              "1988  11432.089844  11759.959961  11388.040039  11734.320312  212830000\n",
              "\n",
              "[1989 rows x 5 columns]"
            ]
          },
          "metadata": {},
          "execution_count": 168
        }
      ]
    },
    {
      "cell_type": "code",
      "metadata": {
        "colab": {
          "base_uri": "https://localhost:8080/"
        },
        "id": "cXR2v8n4x9q8",
        "outputId": "7bac6231-d4d0-449d-bcfa-a89303ef21a4"
      },
      "source": [
        "y"
      ],
      "execution_count": 169,
      "outputs": [
        {
          "output_type": "execute_result",
          "data": {
            "text/plain": [
              "0       17949.369141\n",
              "1       17929.990234\n",
              "2       17694.679688\n",
              "3       17409.720703\n",
              "4       17140.240234\n",
              "            ...     \n",
              "1984    11615.929688\n",
              "1985    11532.959961\n",
              "1986    11642.469727\n",
              "1987    11782.349609\n",
              "1988    11734.320312\n",
              "Name: Adj Close, Length: 1989, dtype: float64"
            ]
          },
          "metadata": {},
          "execution_count": 169
        }
      ]
    },
    {
      "cell_type": "code",
      "metadata": {
        "colab": {
          "base_uri": "https://localhost:8080/"
        },
        "id": "cFfV3mJsyBY9",
        "outputId": "9d057f7a-7960-4fe2-925a-06d79ed5ee76"
      },
      "source": [
        "#spliting test and training data\n",
        "x_train,x_test,y_train,y_test = train_test_split(x.values,y.values,test_size=0.2,random_state=2)\n",
        "print(x.shape,x_train.shape,x_test.shape)"
      ],
      "execution_count": 170,
      "outputs": [
        {
          "output_type": "stream",
          "name": "stdout",
          "text": [
            "(1989, 5) (1591, 5) (398, 5)\n"
          ]
        }
      ]
    },
    {
      "cell_type": "markdown",
      "metadata": {
        "id": "9tlpYtH5ydS7"
      },
      "source": [
        "# **Model Training**"
      ]
    },
    {
      "cell_type": "code",
      "metadata": {
        "id": "dFFetXQmyQM4"
      },
      "source": [
        "model = RandomForestRegressor()"
      ],
      "execution_count": 171,
      "outputs": []
    },
    {
      "cell_type": "code",
      "metadata": {
        "colab": {
          "base_uri": "https://localhost:8080/"
        },
        "id": "pG4iArCfym01",
        "outputId": "2551f5e0-47a9-4691-eea5-b1a9e3ccfbc3"
      },
      "source": [
        "#training the model\n",
        "model.fit(x_train,y_train)"
      ],
      "execution_count": 172,
      "outputs": [
        {
          "output_type": "execute_result",
          "data": {
            "text/plain": [
              "RandomForestRegressor(bootstrap=True, ccp_alpha=0.0, criterion='mse',\n",
              "                      max_depth=None, max_features='auto', max_leaf_nodes=None,\n",
              "                      max_samples=None, min_impurity_decrease=0.0,\n",
              "                      min_impurity_split=None, min_samples_leaf=1,\n",
              "                      min_samples_split=2, min_weight_fraction_leaf=0.0,\n",
              "                      n_estimators=100, n_jobs=None, oob_score=False,\n",
              "                      random_state=None, verbose=0, warm_start=False)"
            ]
          },
          "metadata": {},
          "execution_count": 172
        }
      ]
    },
    {
      "cell_type": "code",
      "metadata": {
        "colab": {
          "base_uri": "https://localhost:8080/"
        },
        "id": "S52jmprtyp2m",
        "outputId": "d12b2e20-9923-47aa-8f05-e994a17ad5fd"
      },
      "source": [
        "# train data Prediction\n",
        "x_train_prediction = model.predict(x_train)\n",
        "print(x_train_prediction)"
      ],
      "execution_count": 173,
      "outputs": [
        {
          "output_type": "stream",
          "name": "stdout",
          "text": [
            "[17994.74029278 13486.09013712  9104.14398472 ... 17100.30334017\n",
            " 16716.40736334 10938.61395498]\n"
          ]
        }
      ]
    },
    {
      "cell_type": "code",
      "metadata": {
        "colab": {
          "base_uri": "https://localhost:8080/"
        },
        "id": "tI37ms3dy4_a",
        "outputId": "55c84e2c-e01d-481a-b074-d8cb0f2e7072"
      },
      "source": [
        "# test data Prediction\n",
        "test_data_prediction=model.predict(x_test)\n",
        "print(test_data_prediction)"
      ],
      "execution_count": 174,
      "outputs": [
        {
          "output_type": "stream",
          "name": "stdout",
          "text": [
            "[12769.71394531 11896.21713894 12641.77134751 17684.59658193\n",
            " 10150.00683622 15327.57138661 12966.29692373 13231.64553697\n",
            "  8192.41092262 13359.41269535 15332.34737296 15748.85902343\n",
            " 13172.48646489  9943.78896502 16481.18824202 10569.65939456\n",
            " 13170.3640234  15662.64480467 14822.86814459 12220.01376965\n",
            " 16414.57627949 17762.9544918  10638.41507824 11877.46121088\n",
            " 17045.31068362 17886.16292937 17052.05343755  8071.29756852\n",
            "  9720.7173924  13172.35131856  9772.1370314  14541.26719711\n",
            " 10308.57323238 18137.93279286 11475.54692386  8286.58416969\n",
            " 11409.87695313 12981.58037114  8681.8815233  12638.99916963\n",
            " 11955.75559578 16916.90802741 12662.67327137 10992.62888683\n",
            "  8008.55829106 17526.65894552 12929.84335948 15128.25434584\n",
            " 10605.47707041 13887.71790057 13123.88935553 10192.4584178\n",
            " 12227.15169928 11193.47960966 16731.38919931 17483.91314453\n",
            " 12394.24608393 18079.82916004 18236.79761699 17142.76019533\n",
            " 12092.42698231 16914.13871085 16976.74876938 10141.91412108\n",
            " 16369.3510841  10058.57729469 14533.68907213 15524.43798832\n",
            " 17600.04802716  7124.71498049 16462.17167959 10927.19502927\n",
            "  9899.50614278 16642.75181639  9637.63305666 16803.45027336\n",
            " 16924.06480478 12040.59134764 10941.02140609  7434.50378914\n",
            " 16026.66330078 15556.66979516 17704.15187491  9617.68683604\n",
            " 17933.80289082 12229.42740241  7195.55049816  9500.64296847\n",
            " 10344.73494153 17827.63382791 12627.89373032 17731.58302744\n",
            " 17007.16306635 17370.36169909 17599.72244115 12046.14854508\n",
            " 16432.01462886  8742.80895493 11521.05142566 17663.6261521\n",
            " 17435.51142585 14021.2363084  12036.77624024  8855.27796906\n",
            "  8421.77260725 17004.34787116 12723.94457036 16097.6267968\n",
            " 12495.96679705 15555.16872092 17828.92101556  8710.88024411\n",
            " 10016.2779299   9263.34673828 10249.15317368 17059.70580103\n",
            " 17140.11724615 10044.87213864  8949.05476559 10617.61425786\n",
            " 15139.92118154 16106.54737313 18098.69431643  9247.38248035\n",
            "  8689.59395508 11207.39542951 17674.26177709  9891.43827138\n",
            " 12965.61405264 17662.43337889 11986.80284166 11573.39611326\n",
            " 11995.63011699  9777.09509781 17551.45310547 13566.60297846\n",
            " 12604.53949185  8074.54876974 10308.57962888  8719.34336906\n",
            " 11284.68347662  8128.21168971 13522.03873051 10320.97402328\n",
            " 13004.89653304  7506.40486332 14352.28874958 12688.84501951\n",
            " 18002.54589827 10862.02711919  8174.09388182 14572.5224804\n",
            "  8515.91114251  9032.73774418 13153.43713876 16678.67304698\n",
            " 10625.25307633 13942.76603513 12793.19288089 17122.22537098\n",
            " 16423.79761726 12837.68096653 13198.55877931 15906.88809541\n",
            " 10714.32319352 16978.77499993 15835.33303718 10529.08704125\n",
            " 10036.40846675 17499.42439465  8374.61506821 16300.37010768\n",
            "  9749.83347665 17079.09566409 11496.49687516  8472.24712918\n",
            " 10320.13877913 17618.92427741 10215.80852511 17853.06740254\n",
            " 15468.88455084 11980.99165043 17064.99408212  7938.42466314\n",
            " 15064.38923822 18126.11496107 10855.91398431 18054.07099617\n",
            " 11238.9595119  13569.63330075 17483.56417949  9149.2143262\n",
            "  9084.16453157 17683.88908197 11433.24961942 15129.82775384\n",
            " 13013.31075189 17572.54757831 14805.52020499  8762.76767565\n",
            " 15182.87576168 10774.53101563 11044.84543948 18039.73615245\n",
            " 14846.89228515 16213.60761704 10389.97778356 12189.62872101\n",
            " 13320.22134732 15751.09900388 16202.70936514 11955.67808607\n",
            " 12168.72492201  8021.7242677  15540.50672855  9791.10069347\n",
            "  7971.21500499 15225.37104506  8857.24640661 12755.06752956\n",
            " 10332.46166988 17218.64753889 16377.12925778 13585.94582056\n",
            " 10408.24185533 17735.93814461 16556.03187503 12093.01137674\n",
            " 12877.56852522 10471.68085963 14441.87065399 15885.77121112\n",
            " 11205.64766585 17616.42289047 16541.41294923 11231.10402353\n",
            "  9707.33111329  8031.8601123   8763.58005839 17757.8861326\n",
            "  8443.5483689  17730.84697283 15129.49164072 13908.77451181\n",
            " 11433.00978546 17249.34951178  9770.31182635  8566.12506834\n",
            " 16837.87906242 14441.12622036 17534.01259755 16089.87243168\n",
            " 12200.89555671 18133.01998038 16515.69451166 13603.64408211\n",
            " 17513.22466801 17071.21744144 10002.34696314 16072.38256829\n",
            " 11626.2228123  16259.31590823 13572.08438478 16397.80651346\n",
            " 13505.11826153 15006.72082984 10520.47190439 18280.93164048\n",
            " 10300.43648453 11052.48205066  8420.627119   15968.45410134\n",
            " 17977.83771478 17733.06876956  8813.45446786 16334.86869159\n",
            " 11266.00770503 17404.28414062 10318.37989243 16026.23392577\n",
            " 17110.45443355 10467.16991248 17922.33742214 17688.41962876\n",
            " 11781.77933608 16458.87658199 12719.48780266 15626.75583003\n",
            " 17927.39107419 11143.96003898 12379.44402374 12710.98570301\n",
            " 15755.68961929 11052.88871081 16147.0771582  17133.23849612\n",
            " 17851.16095706 12760.43615263 11784.14624043 10862.33970702\n",
            "  8772.69386705  8273.76673344 13073.58763686 12107.52217769\n",
            " 16958.06158183  7670.63263212 12887.87975577 16908.37501967\n",
            " 12644.34665027  9772.69665054 11123.61828115 12889.67031243\n",
            " 13114.52461933 18065.80628884  8292.58311512 10217.07618145\n",
            " 12850.68123036 10384.45725622 17777.18759764 10621.28832038\n",
            " 13883.93654312 13045.15315408 11168.3556346   8616.80191423\n",
            " 10068.77952135 17030.08105467 11869.35687501 17828.77892554\n",
            " 17552.68404292  8972.34311528 15674.81292012 10289.63166041\n",
            " 17806.02994159 10435.24631834 16586.31287112 10596.15940453\n",
            " 15559.41232431 10696.37099635 16624.01347645 10374.83697284\n",
            " 15521.81574223 15014.7534764  17718.58478502 17082.95189437\n",
            " 16942.15667958 10041.44436525 16421.46924811  9327.42873052\n",
            " 10770.14832039 13303.85100549 12637.20338835 16513.16896481\n",
            " 17547.88039077 11719.62240262 17647.15009762 14730.52083989\n",
            "  8601.27018571 12287.36970707  7955.89066912 16997.1473241\n",
            " 12310.60793951 15975.47188469  8194.65091771  9138.89615258\n",
            " 13094.45662106 17615.42999988  9785.00198259 11624.02867157\n",
            " 12646.88120098 17719.27158194 16561.14488295 16731.79187507\n",
            " 17736.87874986 12682.17886724 12570.12091789 11442.77332059\n",
            " 10387.25802767 15412.90158218 12263.73416988 10195.48745109\n",
            " 12805.34811503 11977.63923812 17338.47632834  8181.12923816\n",
            " 10249.74559556 10469.68459982  9547.36294909 14719.77992196\n",
            " 10466.89809609 11414.2838967   9503.52106417 17387.73169928\n",
            " 12158.27303733 10405.35086913 10741.00015624 17064.09660163\n",
            "  7946.40094733 10678.04121111]\n"
          ]
        }
      ]
    },
    {
      "cell_type": "markdown",
      "metadata": {
        "id": "Ig764Xcbyyxq"
      },
      "source": [
        "# Mean Absolute Error"
      ]
    },
    {
      "cell_type": "code",
      "metadata": {
        "colab": {
          "base_uri": "https://localhost:8080/"
        },
        "id": "_LLUDWOCyygT",
        "outputId": "8644ca18-c6b1-466b-aef7-0270ab8e3886"
      },
      "source": [
        "m = metrics.mean_absolute_error(y_test,test_data_prediction)\n",
        "print(\"Mean Absolute Error : \",m)"
      ],
      "execution_count": 147,
      "outputs": [
        {
          "output_type": "stream",
          "name": "stdout",
          "text": [
            "Mean Absolute Error :  6.3550249733921715\n"
          ]
        }
      ]
    },
    {
      "cell_type": "code",
      "metadata": {
        "colab": {
          "base_uri": "https://localhost:8080/"
        },
        "id": "rx6fAsW5yuNl",
        "outputId": "b082f422-50a0-4047-98d7-cbf95ae0b233"
      },
      "source": [
        "# R squared value\n",
        "r2_test = metrics.r2_score(y_test,test_data_prediction)\n",
        "print('R squared value : ',r2_test)"
      ],
      "execution_count": 148,
      "outputs": [
        {
          "output_type": "stream",
          "name": "stdout",
          "text": [
            "R squared value :  0.9999892638577413\n"
          ]
        }
      ]
    },
    {
      "cell_type": "markdown",
      "metadata": {
        "id": "0mfr-O4VQdcR"
      },
      "source": [
        "# **Take Input**"
      ]
    },
    {
      "cell_type": "code",
      "metadata": {
        "id": "W31EpvA3zHw4"
      },
      "source": [
        "input_data = [17946.630859,17946.630859,17356.339844,17400.75,239000000]\n",
        "input_data_as_numpy_array = np.asarray(input_data)"
      ],
      "execution_count": 149,
      "outputs": []
    },
    {
      "cell_type": "code",
      "metadata": {
        "colab": {
          "base_uri": "https://localhost:8080/"
        },
        "id": "a_l7Nanqzg63",
        "outputId": "8242ceb7-6b53-4728-9917-a1b19bcb6e64"
      },
      "source": [
        "#reshape the array\n",
        "input_data_reshaped = input_data_as_numpy_array.reshape(1,-1)\n",
        "prediction = model.predict(input_data_reshaped)\n",
        "print('Pridiction Price : ', prediction[0])"
      ],
      "execution_count": 150,
      "outputs": [
        {
          "output_type": "stream",
          "name": "stdout",
          "text": [
            "Pridiction Price :  17402.195644620002\n"
          ]
        }
      ]
    },
    {
      "cell_type": "code",
      "metadata": {
        "id": "sEjHYnmgW1l7"
      },
      "source": [
        ""
      ],
      "execution_count": null,
      "outputs": []
    }
  ]
}