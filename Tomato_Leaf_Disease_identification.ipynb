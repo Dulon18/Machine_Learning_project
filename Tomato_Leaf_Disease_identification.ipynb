{
  "nbformat": 4,
  "nbformat_minor": 0,
  "metadata": {
    "colab": {
      "name": "Tomato Leaf Disease identification.ipynb",
      "private_outputs": true,
      "provenance": [],
      "collapsed_sections": [],
      "mount_file_id": "1UoCco8BFScenuJArtAL6hQ8xhE5Mnbh1",
      "authorship_tag": "ABX9TyNxnggMGJyTFeMdeveyPaUk",
      "include_colab_link": true
    },
    "kernelspec": {
      "display_name": "Python 3",
      "name": "python3"
    },
    "language_info": {
      "name": "python"
    },
    "accelerator": "GPU"
  },
  "cells": [
    {
      "cell_type": "markdown",
      "metadata": {
        "id": "view-in-github",
        "colab_type": "text"
      },
      "source": [
        "<a href=\"https://colab.research.google.com/github/Dulon18/Machine_Learning_project/blob/main/Tomato_Leaf_Disease_identification.ipynb\" target=\"_parent\"><img src=\"https://colab.research.google.com/assets/colab-badge.svg\" alt=\"Open In Colab\"/></a>"
      ]
    },
    {
      "cell_type": "code",
      "metadata": {
        "id": "PUM7N_1z3jha"
      },
      "source": [
        "from google.colab import drive\n",
        "drive.mount('/content/drive')"
      ],
      "execution_count": null,
      "outputs": []
    },
    {
      "cell_type": "markdown",
      "metadata": {
        "id": "Bz5Vdu3RXkFi"
      },
      "source": [
        "# **Importing Libraries**"
      ]
    },
    {
      "cell_type": "code",
      "metadata": {
        "id": "XrVGnhPuXDr6"
      },
      "source": [
        "import numpy as np\n",
        "import pandas as pd\n",
        "import matplotlib.pyplot as plt\n",
        "import os\n",
        "import keras\n",
        "from tensorflow.keras.preprocessing.image import load_img,img_to_array\n",
        "from tensorflow.keras.preprocessing.image import ImageDataGenerator\n",
        "from keras.applications.vgg19 import VGG19, preprocess_input, decode_predictions"
      ],
      "execution_count": null,
      "outputs": []
    },
    {
      "cell_type": "code",
      "metadata": {
        "id": "zWvAv7z3Ynb6"
      },
      "source": [
        "len(os.listdir(\"/content/drive/MyDrive/New Plant Diseases Dataset(Augmented)/train\"))"
      ],
      "execution_count": null,
      "outputs": []
    },
    {
      "cell_type": "markdown",
      "metadata": {
        "id": "I0l1VHPhZaA_"
      },
      "source": [
        "# **Dataset Preprocessing**"
      ]
    },
    {
      "cell_type": "code",
      "metadata": {
        "id": "pcjewZ4fZJXh"
      },
      "source": [
        "train_datagen = ImageDataGenerator(zoom_range=0.5,shear_range=0.3,horizontal_flip=True,preprocessing_function=preprocess_input)\n",
        "val_datagen = ImageDataGenerator(preprocessing_function = preprocess_input)"
      ],
      "execution_count": null,
      "outputs": []
    },
    {
      "cell_type": "code",
      "metadata": {
        "id": "9kcJba0cZ7GC"
      },
      "source": [
        "train =train_datagen.flow_from_directory(directory='/content/drive/MyDrive/New Plant Diseases Dataset(Augmented)/train',\n",
        "                                         target_size=(256,256),batch_size=32)\n",
        "\n",
        "\n",
        "\n",
        "validation =val_datagen.flow_from_directory(directory='/content/drive/MyDrive/New Plant Diseases Dataset(Augmented)/valid',\n",
        "                                            target_size=(256,256),batch_size=32)"
      ],
      "execution_count": null,
      "outputs": []
    },
    {
      "cell_type": "code",
      "metadata": {
        "id": "34svJIyRmRK0"
      },
      "source": [
        "t_img,label = train.next()"
      ],
      "execution_count": null,
      "outputs": []
    },
    {
      "cell_type": "code",
      "metadata": {
        "id": "wTumt6Lnqtq_"
      },
      "source": [
        "def plotImage(img_arry, label):\n",
        "\n",
        "    for im, l in zip(img_arry,label):\n",
        "        plt.figure(figsize=(5,5))\n",
        "        plt.imshow(im)\n",
        "        plt.show()\n",
        "\n"
      ],
      "execution_count": null,
      "outputs": []
    },
    {
      "cell_type": "code",
      "metadata": {
        "id": "kGRaMkAsrmDf"
      },
      "source": [
        "plotImage(t_img[:5], label[:5])"
      ],
      "execution_count": null,
      "outputs": []
    },
    {
      "cell_type": "markdown",
      "metadata": {
        "id": "iiDm61pkth8k"
      },
      "source": [
        "# **Building Model**"
      ]
    },
    {
      "cell_type": "code",
      "metadata": {
        "id": "XOOO9sbWspqp"
      },
      "source": [
        "from keras.layers import Dense,Flatten\n",
        "from keras.models import Model\n",
        "from keras.applications.vgg19 import VGG19\n",
        "import keras"
      ],
      "execution_count": null,
      "outputs": []
    },
    {
      "cell_type": "code",
      "metadata": {
        "id": "kNBkZ_cSuOTf"
      },
      "source": [
        "base_model = VGG19(input_shape=(256,256,3), include_top=False)"
      ],
      "execution_count": null,
      "outputs": []
    },
    {
      "cell_type": "code",
      "metadata": {
        "id": "2A_UOSq2uecw"
      },
      "source": [
        "for layer in base_model.layers:\n",
        "    layer.trainable=False"
      ],
      "execution_count": null,
      "outputs": []
    },
    {
      "cell_type": "code",
      "metadata": {
        "id": "N7Xkfa-0ux7d"
      },
      "source": [
        "base_model.summary()"
      ],
      "execution_count": null,
      "outputs": []
    },
    {
      "cell_type": "code",
      "metadata": {
        "id": "N-EL9-7Uu2G-"
      },
      "source": [
        "x=Flatten()(base_model.output)\n",
        "x = Dense(units=10, activation='softmax')(x)"
      ],
      "execution_count": null,
      "outputs": []
    },
    {
      "cell_type": "code",
      "metadata": {
        "id": "j16-n34DvS4H"
      },
      "source": [
        "#Creating model\n",
        "\n",
        "model= Model(base_model.input,x)"
      ],
      "execution_count": null,
      "outputs": []
    },
    {
      "cell_type": "code",
      "metadata": {
        "id": "EEO_eYoNvgOH"
      },
      "source": [
        "model.summary()"
      ],
      "execution_count": null,
      "outputs": []
    },
    {
      "cell_type": "markdown",
      "metadata": {
        "id": "feyZuCmWvrIL"
      },
      "source": [
        "# **Early Stopping And Model Check Point**"
      ]
    },
    {
      "cell_type": "code",
      "metadata": {
        "id": "WVLVH0cYvjRN"
      },
      "source": [
        "from keras.callbacks import ModelCheckpoint,EarlyStopping"
      ],
      "execution_count": null,
      "outputs": []
    },
    {
      "cell_type": "code",
      "metadata": {
        "id": "uB9Kq1YOv93T"
      },
      "source": [
        "early_stopping =EarlyStopping(monitor=\"val_accuracy\", min_delta=0.01,patience=3, verbose=1)\n",
        "#model checkpoint\n",
        "\n",
        "mc= ModelCheckpoint(filepath=\"model.h5\",monitor='val_accuracy',min_delta=0.01,patience=3, verbose=1, save_best_only=True)\n",
        "\n",
        "\n",
        "cb =[early_stopping,mc]"
      ],
      "execution_count": null,
      "outputs": []
    },
    {
      "cell_type": "code",
      "metadata": {
        "id": "MEbWHBCux6nf"
      },
      "source": [
        "model.compile(optimizer='adam',loss=keras.losses.categorical_crossentropy,metrics=['accuracy'])"
      ],
      "execution_count": null,
      "outputs": []
    },
    {
      "cell_type": "code",
      "metadata": {
        "id": "Vj7FdH5k3IGs"
      },
      "source": [
        "history = model.fit_generator(train,steps_per_epoch=16,epochs=20,verbose=1,callbacks=cb,validation_data=validation,validation_steps=16) "
      ],
      "execution_count": null,
      "outputs": []
    },
    {
      "cell_type": "code",
      "metadata": {
        "id": "APcZo_bN4vgc"
      },
      "source": [
        "h = history .history\n",
        "h.keys()"
      ],
      "execution_count": null,
      "outputs": []
    },
    {
      "cell_type": "code",
      "metadata": {
        "id": "ZhLi6J9J7-g2"
      },
      "source": [
        "plt.plot(h['accuracy'])\n",
        "plt.plot(h['val_accuracy'], c='red')\n",
        "plt.title('acc vs val_acc')\n",
        "plt.show()"
      ],
      "execution_count": null,
      "outputs": []
    },
    {
      "cell_type": "code",
      "metadata": {
        "id": "79M2HCWR8cKJ"
      },
      "source": [
        "plt.plot(h['loss'])\n",
        "plt.plot(h['val_accuracy'], c='red')\n",
        "plt.title('acc vs val_acc')\n",
        "plt.show()"
      ],
      "execution_count": null,
      "outputs": []
    },
    {
      "cell_type": "code",
      "metadata": {
        "id": "0hccMUXXc24f"
      },
      "source": [
        "from keras.models import load_model"
      ],
      "execution_count": null,
      "outputs": []
    },
    {
      "cell_type": "code",
      "metadata": {
        "id": "pRT4cjYV8isw"
      },
      "source": [
        "# load best model\n",
        "model=load_model(\"/content/model.h5\")\n",
        "\n"
      ],
      "execution_count": null,
      "outputs": []
    },
    {
      "cell_type": "code",
      "metadata": {
        "id": "hlJfHTOw9mAG"
      },
      "source": [
        "acc=model.evaluate_generator(validation)[1]\n"
      ],
      "execution_count": null,
      "outputs": []
    },
    {
      "cell_type": "code",
      "metadata": {
        "id": "rmzbKdEGEi6S"
      },
      "source": [
        "list(train.class_indices.values()), list(train.class_indices.keys())"
      ],
      "execution_count": null,
      "outputs": []
    },
    {
      "cell_type": "code",
      "metadata": {
        "id": "9IBbfrdsA1dS"
      },
      "source": [
        "ref=dict(zip(list(train.class_indices.values()), list(train.class_indices.keys()) ))"
      ],
      "execution_count": null,
      "outputs": []
    },
    {
      "cell_type": "code",
      "metadata": {
        "id": "832ghat--cd_"
      },
      "source": [
        "def prediction(path):\n",
        "    img=load_img(path,target_size=(256,256))\n",
        "    i=img_to_array(img)\n",
        "    im=preprocess_input(i)\n",
        "    img=np.expand_dims(im,axis=0)\n",
        "    pred = np.argmax(model.predict(img))\n",
        "    print(f\" This image belongs to { ref[pred] } \")"
      ],
      "execution_count": null,
      "outputs": []
    },
    {
      "cell_type": "code",
      "metadata": {
        "id": "3iXAkGjz_QAT"
      },
      "source": [
        "path=\"/content/drive/MyDrive/NewPlantDiseasesDataset(Augmented)/Test/23857b36-24f3-4745-a877-dedde5c5931c___YLCV_NREC 2520.JPG\"\n",
        "prediction(path)"
      ],
      "execution_count": null,
      "outputs": []
    },
    {
      "cell_type": "markdown",
      "metadata": {
        "id": "nSPcFqukqrR3"
      },
      "source": [
        "# **Thank You**"
      ]
    }
  ]
}